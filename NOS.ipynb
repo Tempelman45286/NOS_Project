{
 "cells": [
  {
   "cell_type": "markdown",
   "metadata": {},
   "source": [
    "# NOS.nl - Text Classification"
   ]
  },
  {
   "cell_type": "markdown",
   "metadata": {},
   "source": [
    "_Author: Gerben Tempelman_ <br>\n",
    "_Date: 01-03-2019_ "
   ]
  },
  {
   "cell_type": "markdown",
   "metadata": {},
   "source": [
    "The objective of this project is to create a text classification model to classify news articles (documents) into news categories, and apply an unsupervised technique to visualize all articles. This will be done based on news articles from www.nos.nl. My personal goal is to explore techniques such as web-scraping, TF-IDF, Latent Dirichlet Allocation, Word Embedding, dimensionality reduction (t-sne & UMAP), and multinomial classifiers. This notebook will not go into much of the theory behind these techniques."
   ]
  },
  {
   "cell_type": "markdown",
   "metadata": {},
   "source": [
    "## Table of Contents: <br>\n",
    "\n",
    "#### 1. Get data (Web Scraping)\n",
    "#### 2. Cleaning data\n",
    "#### 3. Feature Engineering\n",
    "\n",
    "- 3.1 Bag of Words <br>\n",
    "- 3.2 Term Frequency - Inverse Document Frequency (TF-IDF) <br>\n",
    "- 3.3 Averaged Word Embeddings <br>\n",
    "- 3.4 Topic Models (Latent Dirichlet Allocation) <br>\n",
    "- 3.5 Doc2Vec\n",
    "\n",
    "#### 4. Model Building\n",
    "#### 5. Dimensionality Reduction and Visualization"
   ]
  },
  {
   "cell_type": "markdown",
   "metadata": {},
   "source": [
    "__About NOS__:\n",
    "_As the largest news organization of the Netherlands, the NOS offers reliable, independent round-the-clock reporting on news, current affairs, sports and national and international events. The NOS does this within the framework of the Dutch public broadcasting system and through a wide array of platforms: television, radio, online (www.nos.nl), mobile apps, teletext, smart tv’s, game consoles, narrow-casting and social networks. All of this makes the NOS the premier source of information in the Netherlands._"
   ]
  },
  {
   "cell_type": "markdown",
   "metadata": {},
   "source": [
    "## 1. Get data (Web Scraping)"
   ]
  },
  {
   "cell_type": "markdown",
   "metadata": {},
   "source": [
    "First, let's acquire the data. A web-scraper was constructed that gets all news articles - from all categories - of the year 2018. The code of the web-scraper is not shown and is available on request (as is the dataframe that is imported). The objective of the scraper was to put the result into a dataframe based on which features can be build for a text classification model. Contents of quote blocks, article titles and photo- and video subscripts of the news articles are omitted, since we want to process the data in its most unedited format. The 'Text' column will represent the corpus and the 'Category' column the target to be predicted. "
   ]
  },
  {
   "cell_type": "code",
   "execution_count": 1,
   "metadata": {},
   "outputs": [],
   "source": [
    "## Imports\n",
    "import matplotlib.pyplot as plt\n",
    "import pandas as pd\n",
    "import numpy as np\n",
    "from sklearn.model_selection import train_test_split\n",
    "from sklearn import preprocessing\n",
    "import html\n",
    "import seaborn as sns\n",
    "from seaborn import set_style\n",
    "import warnings\n",
    "warnings.filterwarnings('ignore')\n",
    "pd.set_option(\"display.max_colwidth\", 200)"
   ]
  },
  {
   "cell_type": "code",
   "execution_count": 2,
   "metadata": {},
   "outputs": [
    {
     "name": "stdout",
     "output_type": "stream",
     "text": [
      "Dataframe with the scraped content has 29588 rows and 5 columns\n"
     ]
    },
    {
     "data": {
      "text/html": [
       "<div>\n",
       "<style scoped>\n",
       "    .dataframe tbody tr th:only-of-type {\n",
       "        vertical-align: middle;\n",
       "    }\n",
       "\n",
       "    .dataframe tbody tr th {\n",
       "        vertical-align: top;\n",
       "    }\n",
       "\n",
       "    .dataframe thead th {\n",
       "        text-align: right;\n",
       "    }\n",
       "</style>\n",
       "<table border=\"1\" class=\"dataframe\">\n",
       "  <thead>\n",
       "    <tr style=\"text-align: right;\">\n",
       "      <th></th>\n",
       "      <th>Title</th>\n",
       "      <th>Date</th>\n",
       "      <th>Link</th>\n",
       "      <th>Text</th>\n",
       "      <th>Category</th>\n",
       "    </tr>\n",
       "  </thead>\n",
       "  <tbody>\n",
       "    <tr>\n",
       "      <th>19983</th>\n",
       "      <td>Belastingdienst kan plannen niet uitvoeren door aanhoudende ict-malaise</td>\n",
       "      <td>2018-04-17</td>\n",
       "      <td>https://www.nos.nl/artikel/2227840-belastingdienst-kan-plannen-niet-uitvoeren-door-aanhoudende-ict-malaise.html</td>\n",
       "      <td>Nog altijd zijn de ict-problemen bij de Belastingdienst niet opgelost. Vanwege deze problemen worden plannen om terugbetalingsregelingen voor bijvoorbeeld zorg- of huurtoeslag te vereenvoudigen, v...</td>\n",
       "      <td>politiek</td>\n",
       "    </tr>\n",
       "    <tr>\n",
       "      <th>28218</th>\n",
       "      <td>Bannon laat zich ondervragen, maar niet door grand jury</td>\n",
       "      <td>2018-01-17</td>\n",
       "      <td>https://www.nos.nl/artikel/2212434-bannon-laat-zich-ondervragen-maar-niet-door-grand-jury.html</td>\n",
       "      <td>Steve Bannon, oud-adviseur van president Trump, is bereid zich achter gesloten deuren te laten ondervragen over mogelijke Russische bemoeienis met de Amerikaanse verkiezingen. Hij heeft daarover e...</td>\n",
       "      <td>buitenland</td>\n",
       "    </tr>\n",
       "    <tr>\n",
       "      <th>28982</th>\n",
       "      <td>De dagen van Klaassen bij Everton lijken geteld</td>\n",
       "      <td>2018-01-09</td>\n",
       "      <td>https://www.nos.nl/artikel/2211125-de-dagen-van-klaassen-bij-everton-lijken-geteld.html</td>\n",
       "      <td>\"Alles is daar voetbal en dat sprak me heel erg aan. Ik had meteen het gevoel: hier kan ik me echt gaan thuis voelen.\" Het zijn de woorden van Davy Klaassen, op 15 juni 2017, kort na zijn overstap...</td>\n",
       "      <td>sport</td>\n",
       "    </tr>\n",
       "    <tr>\n",
       "      <th>9661</th>\n",
       "      <td>Als het aan Ryanair-baas O'Leary ligt, betaal je straks ook voor de wc</td>\n",
       "      <td>2018-08-24</td>\n",
       "      <td>https://www.nos.nl/artikel/2247353-als-het-aan-ryanair-baas-o-leary-ligt-betaal-je-straks-ook-voor-de-wc.html</td>\n",
       "      <td>\"Het liefst zou ik een vliegtuig creëren waarin we de achterste tien rijen weg kunnen halen. Op die plek plaatsen we dan rails aan de zijkant. Dan zeggen we: als je staat, hoef je maar 5 euro te b...</td>\n",
       "      <td>binnenland</td>\n",
       "    </tr>\n",
       "    <tr>\n",
       "      <th>7114</th>\n",
       "      <td>Dumoulin na tweede plaats: 'Zat totaal mislukt op de fiets'</td>\n",
       "      <td>2018-09-26</td>\n",
       "      <td>https://www.nos.nl/artikel/2252206-dumoulin-na-tweede-plaats-zat-totaal-mislukt-op-de-fiets.html</td>\n",
       "      <td>Tom Dumoulin liep strompelend rond na zijn tijdrit op de WK wielrennen. Hij raakte verkrampt tijdens zijn rit over het 52,5 kilometer lange parcours in Innsbruck en verloor zijn titel aan Rohan De...</td>\n",
       "      <td>sport</td>\n",
       "    </tr>\n",
       "  </tbody>\n",
       "</table>\n",
       "</div>"
      ],
      "text/plain": [
       "                                                                         Title  \\\n",
       "19983  Belastingdienst kan plannen niet uitvoeren door aanhoudende ict-malaise   \n",
       "28218                  Bannon laat zich ondervragen, maar niet door grand jury   \n",
       "28982                          De dagen van Klaassen bij Everton lijken geteld   \n",
       "9661    Als het aan Ryanair-baas O'Leary ligt, betaal je straks ook voor de wc   \n",
       "7114               Dumoulin na tweede plaats: 'Zat totaal mislukt op de fiets'   \n",
       "\n",
       "             Date  \\\n",
       "19983  2018-04-17   \n",
       "28218  2018-01-17   \n",
       "28982  2018-01-09   \n",
       "9661   2018-08-24   \n",
       "7114   2018-09-26   \n",
       "\n",
       "                                                                                                                  Link  \\\n",
       "19983  https://www.nos.nl/artikel/2227840-belastingdienst-kan-plannen-niet-uitvoeren-door-aanhoudende-ict-malaise.html   \n",
       "28218                   https://www.nos.nl/artikel/2212434-bannon-laat-zich-ondervragen-maar-niet-door-grand-jury.html   \n",
       "28982                          https://www.nos.nl/artikel/2211125-de-dagen-van-klaassen-bij-everton-lijken-geteld.html   \n",
       "9661     https://www.nos.nl/artikel/2247353-als-het-aan-ryanair-baas-o-leary-ligt-betaal-je-straks-ook-voor-de-wc.html   \n",
       "7114                  https://www.nos.nl/artikel/2252206-dumoulin-na-tweede-plaats-zat-totaal-mislukt-op-de-fiets.html   \n",
       "\n",
       "                                                                                                                                                                                                          Text  \\\n",
       "19983  Nog altijd zijn de ict-problemen bij de Belastingdienst niet opgelost. Vanwege deze problemen worden plannen om terugbetalingsregelingen voor bijvoorbeeld zorg- of huurtoeslag te vereenvoudigen, v...   \n",
       "28218  Steve Bannon, oud-adviseur van president Trump, is bereid zich achter gesloten deuren te laten ondervragen over mogelijke Russische bemoeienis met de Amerikaanse verkiezingen. Hij heeft daarover e...   \n",
       "28982  \"Alles is daar voetbal en dat sprak me heel erg aan. Ik had meteen het gevoel: hier kan ik me echt gaan thuis voelen.\" Het zijn de woorden van Davy Klaassen, op 15 juni 2017, kort na zijn overstap...   \n",
       "9661   \"Het liefst zou ik een vliegtuig creëren waarin we de achterste tien rijen weg kunnen halen. Op die plek plaatsen we dan rails aan de zijkant. Dan zeggen we: als je staat, hoef je maar 5 euro te b...   \n",
       "7114   Tom Dumoulin liep strompelend rond na zijn tijdrit op de WK wielrennen. Hij raakte verkrampt tijdens zijn rit over het 52,5 kilometer lange parcours in Innsbruck en verloor zijn titel aan Rohan De...   \n",
       "\n",
       "         Category  \n",
       "19983    politiek  \n",
       "28218  buitenland  \n",
       "28982       sport  \n",
       "9661   binnenland  \n",
       "7114        sport  "
      ]
     },
     "execution_count": 2,
     "metadata": {},
     "output_type": "execute_result"
    }
   ],
   "source": [
    "# Import data\n",
    "df = pd.read_csv(\"../Datasets/NOS.csv\")\n",
    "\n",
    "print(\"Dataframe with the scraped content has {} rows and {} columns\".format(df.shape[0], df.shape[1]))\n",
    "df.sample(frac=1).head(5)"
   ]
  },
  {
   "cell_type": "markdown",
   "metadata": {},
   "source": [
    "The NOS provides a service called \"waking service\" (\"wekdienst\" in dutch), which is an early-morning overview of the events that happened the day before or early that day. Since these articles contain a mix of categories, this will confound the accuracy of the classifier. Therefore, we will find and omit these records."
   ]
  },
  {
   "cell_type": "code",
   "execution_count": 3,
   "metadata": {},
   "outputs": [
    {
     "name": "stdout",
     "output_type": "stream",
     "text": [
      "364 records that contain 'wekdienst'\n"
     ]
    },
    {
     "data": {
      "text/html": [
       "<div>\n",
       "<style scoped>\n",
       "    .dataframe tbody tr th:only-of-type {\n",
       "        vertical-align: middle;\n",
       "    }\n",
       "\n",
       "    .dataframe tbody tr th {\n",
       "        vertical-align: top;\n",
       "    }\n",
       "\n",
       "    .dataframe thead th {\n",
       "        text-align: right;\n",
       "    }\n",
       "</style>\n",
       "<table border=\"1\" class=\"dataframe\">\n",
       "  <thead>\n",
       "    <tr style=\"text-align: right;\">\n",
       "      <th></th>\n",
       "      <th>Title</th>\n",
       "      <th>Date</th>\n",
       "      <th>Link</th>\n",
       "      <th>Text</th>\n",
       "      <th>Category</th>\n",
       "    </tr>\n",
       "  </thead>\n",
       "  <tbody>\n",
       "    <tr>\n",
       "      <th>36</th>\n",
       "      <td>Wekdienst 31/12: stapels oliebollen en knallende kurken</td>\n",
       "      <td>2018-12-31</td>\n",
       "      <td>https://www.nos.nl/artikel/2265657-wekdienst-31-12-stapels-oliebollen-en-knallende-kurken.html</td>\n",
       "      <td>Goedemorgen! Het is Oudjaarsdag en dat betekent dat je vanaf 18.00 uur legaal vuurwerk mag afsteken. Guido Weijers (RTL 4) en Marc-Marie Huijbregts (NPO 1) verzorgen beiden een oudejaarsconference...</td>\n",
       "      <td>binnenland</td>\n",
       "    </tr>\n",
       "    <tr>\n",
       "      <th>82</th>\n",
       "      <td>Wekdienst 30/12: presidentsverkiezingen in Congo en NK schaatsen</td>\n",
       "      <td>2018-12-30</td>\n",
       "      <td>https://www.nos.nl/artikel/2265535-wekdienst-30-12-presidentsverkiezingen-in-congo-en-nk-schaatsen.html</td>\n",
       "      <td>Goedemorgen! Vandaag zijn de presidentsverkiezingen in Congo en op het NK afstanden in Heerenveen wordt onder meer de 5 kilometer voor vrouwen en de 10 kilometer voor mannen geschaatst.Het blijft ...</td>\n",
       "      <td>binnenland</td>\n",
       "    </tr>\n",
       "    <tr>\n",
       "      <th>139</th>\n",
       "      <td>Wekdienst 29/12: stille tocht in Rotterdam, gele hesjes en NK schaatsen</td>\n",
       "      <td>2018-12-29</td>\n",
       "      <td>https://www.nos.nl/artikel/2265421-wekdienst-29-12-stille-tocht-in-rotterdam-gele-hesjes-en-nk-schaatsen.html</td>\n",
       "      <td>Goedemorgen! Er wordt vandaag een stille tocht georganiseerd ter nagedachtenis van drie vermoorde vrouwen in Rotterdam. In Frankrijk gaan de gele hesjes weer de straat op en schaatsliefhebbers kun...</td>\n",
       "      <td>binnenland</td>\n",
       "    </tr>\n",
       "    <tr>\n",
       "      <th>209</th>\n",
       "      <td>Wekdienst 28/12: start vuurwerkverkoop en Nederland is pessimistischer</td>\n",
       "      <td>2018-12-28</td>\n",
       "      <td>https://www.nos.nl/artikel/2265289-wekdienst-28-12-start-vuurwerkverkoop-en-nederland-is-pessimistischer.html</td>\n",
       "      <td>Goedemorgen! Vanaf vandaag is het drie dagen legaal om vuurwerk te kopen en de schaatsers komen in actie op het NK Afstanden.Het is vandaag grotendeels bewolkt. Alleen in het zuidoosten is er kans...</td>\n",
       "      <td>binnenland</td>\n",
       "    </tr>\n",
       "    <tr>\n",
       "      <th>269</th>\n",
       "      <td>Wekdienst 27/12: ADM-terrein moet leeg en Van Gerwen op WK darts</td>\n",
       "      <td>2018-12-27</td>\n",
       "      <td>https://www.nos.nl/artikel/2265170-wekdienst-27-12-adm-terrein-moet-leeg-en-van-gerwen-op-wk-darts.html</td>\n",
       "      <td>Goedemorgen! De gemeente Amsterdam controleert of alle bewoners van het gekraakte ADM-terrein zijn vertrokken, zo niet dan volgt een ontruiming. En Michael van Gerwen neemt het op het WK darts op ...</td>\n",
       "      <td>binnenland</td>\n",
       "    </tr>\n",
       "  </tbody>\n",
       "</table>\n",
       "</div>"
      ],
      "text/plain": [
       "                                                                       Title  \\\n",
       "36                   Wekdienst 31/12: stapels oliebollen en knallende kurken   \n",
       "82          Wekdienst 30/12: presidentsverkiezingen in Congo en NK schaatsen   \n",
       "139  Wekdienst 29/12: stille tocht in Rotterdam, gele hesjes en NK schaatsen   \n",
       "209   Wekdienst 28/12: start vuurwerkverkoop en Nederland is pessimistischer   \n",
       "269         Wekdienst 27/12: ADM-terrein moet leeg en Van Gerwen op WK darts   \n",
       "\n",
       "           Date  \\\n",
       "36   2018-12-31   \n",
       "82   2018-12-30   \n",
       "139  2018-12-29   \n",
       "209  2018-12-28   \n",
       "269  2018-12-27   \n",
       "\n",
       "                                                                                                              Link  \\\n",
       "36                  https://www.nos.nl/artikel/2265657-wekdienst-31-12-stapels-oliebollen-en-knallende-kurken.html   \n",
       "82         https://www.nos.nl/artikel/2265535-wekdienst-30-12-presidentsverkiezingen-in-congo-en-nk-schaatsen.html   \n",
       "139  https://www.nos.nl/artikel/2265421-wekdienst-29-12-stille-tocht-in-rotterdam-gele-hesjes-en-nk-schaatsen.html   \n",
       "209  https://www.nos.nl/artikel/2265289-wekdienst-28-12-start-vuurwerkverkoop-en-nederland-is-pessimistischer.html   \n",
       "269        https://www.nos.nl/artikel/2265170-wekdienst-27-12-adm-terrein-moet-leeg-en-van-gerwen-op-wk-darts.html   \n",
       "\n",
       "                                                                                                                                                                                                        Text  \\\n",
       "36   Goedemorgen! Het is Oudjaarsdag en dat betekent dat je vanaf 18.00 uur legaal vuurwerk mag afsteken. Guido Weijers (RTL 4) en Marc-Marie Huijbregts (NPO 1) verzorgen beiden een oudejaarsconference...   \n",
       "82   Goedemorgen! Vandaag zijn de presidentsverkiezingen in Congo en op het NK afstanden in Heerenveen wordt onder meer de 5 kilometer voor vrouwen en de 10 kilometer voor mannen geschaatst.Het blijft ...   \n",
       "139  Goedemorgen! Er wordt vandaag een stille tocht georganiseerd ter nagedachtenis van drie vermoorde vrouwen in Rotterdam. In Frankrijk gaan de gele hesjes weer de straat op en schaatsliefhebbers kun...   \n",
       "209  Goedemorgen! Vanaf vandaag is het drie dagen legaal om vuurwerk te kopen en de schaatsers komen in actie op het NK Afstanden.Het is vandaag grotendeels bewolkt. Alleen in het zuidoosten is er kans...   \n",
       "269  Goedemorgen! De gemeente Amsterdam controleert of alle bewoners van het gekraakte ADM-terrein zijn vertrokken, zo niet dan volgt een ontruiming. En Michael van Gerwen neemt het op het WK darts op ...   \n",
       "\n",
       "       Category  \n",
       "36   binnenland  \n",
       "82   binnenland  \n",
       "139  binnenland  \n",
       "209  binnenland  \n",
       "269  binnenland  "
      ]
     },
     "execution_count": 3,
     "metadata": {},
     "output_type": "execute_result"
    }
   ],
   "source": [
    "print(\"{} records that contain 'wekdienst'\".format(df[df['Link'].str.contains('wekdienst')].shape[0]))\n",
    "pd.DataFrame(df[df['Link'].str.contains('wekdienst')]).head()"
   ]
  },
  {
   "cell_type": "code",
   "execution_count": 4,
   "metadata": {},
   "outputs": [],
   "source": [
    "df = df[~df['Link'].str.contains('wekdienst')]"
   ]
  },
  {
   "cell_type": "markdown",
   "metadata": {},
   "source": [
    "The dataframe that was scraped is sorted by date. We will shuffle the dataframe randomly to prevent certain topics to be only in the training set."
   ]
  },
  {
   "cell_type": "code",
   "execution_count": 5,
   "metadata": {
    "scrolled": true
   },
   "outputs": [
    {
     "name": "stdout",
     "output_type": "stream",
     "text": [
      "3 records with no text were removed\n"
     ]
    },
    {
     "data": {
      "text/html": [
       "<div>\n",
       "<style scoped>\n",
       "    .dataframe tbody tr th:only-of-type {\n",
       "        vertical-align: middle;\n",
       "    }\n",
       "\n",
       "    .dataframe tbody tr th {\n",
       "        vertical-align: top;\n",
       "    }\n",
       "\n",
       "    .dataframe thead th {\n",
       "        text-align: right;\n",
       "    }\n",
       "</style>\n",
       "<table border=\"1\" class=\"dataframe\">\n",
       "  <thead>\n",
       "    <tr style=\"text-align: right;\">\n",
       "      <th></th>\n",
       "      <th>Title</th>\n",
       "      <th>Date</th>\n",
       "      <th>Link</th>\n",
       "      <th>Text</th>\n",
       "      <th>Category</th>\n",
       "    </tr>\n",
       "  </thead>\n",
       "  <tbody>\n",
       "    <tr>\n",
       "      <th>0</th>\n",
       "      <td>Na vertrek Keizer staat Damien Hertog plots aan het roer bij Al-Jazira</td>\n",
       "      <td>2018-11-27</td>\n",
       "      <td>https://www.nos.nl/artikel/2261038-na-vertrek-keizer-staat-damien-hertog-plots-aan-het-roer-bij-al-jazira.html</td>\n",
       "      <td>Na een kortstondig avontuur als hoofdtrainer van Ajax trok Marcel Keizer afgelopen zomer naar het Midden-Oosten. Hij werd trainer van Al-Jazira, een topclub in de Verenigde Arabische Emiraten (VAE...</td>\n",
       "      <td>sport</td>\n",
       "    </tr>\n",
       "    <tr>\n",
       "      <th>1</th>\n",
       "      <td>Eerst waren de Saudische miljarden welkom, nu is de techwereld stil</td>\n",
       "      <td>2018-10-23</td>\n",
       "      <td>https://www.nos.nl/artikel/2256069-eerst-waren-de-saudische-miljarden-welkom-nu-is-de-techwereld-stil.html</td>\n",
       "      <td>De afgelopen jaren stonden techbedrijven in de rij om financiering te krijgen van Saudi-Arabië. Vele miljarden vloeiden vanuit het olierijke land naar de westkust van Amerika. Met de dood van jour...</td>\n",
       "      <td>economie</td>\n",
       "    </tr>\n",
       "    <tr>\n",
       "      <th>2</th>\n",
       "      <td>Duitse minister: ondertekenen migratiepact desnoods uitstellen</td>\n",
       "      <td>2018-11-19</td>\n",
       "      <td>https://www.nos.nl/artikel/2259899-duitse-minister-ondertekenen-migratiepact-desnoods-uitstellen.html</td>\n",
       "      <td>In Duitsland neemt de weerstand tegen het VN-migratiepact toe. Naast de rechts-populistische partij AfD roeren ook steeds meer leden vanuit de partij van bondskanselier Merkel CDU zich tegen de on...</td>\n",
       "      <td>buitenland</td>\n",
       "    </tr>\n",
       "    <tr>\n",
       "      <th>3</th>\n",
       "      <td>Buijs hekelt gedrag Gözübüyük na terugdraaien rood bij VVV-FC Groningen</td>\n",
       "      <td>2018-12-09</td>\n",
       "      <td>https://www.nos.nl/artikel/2262753-buijs-hekelt-gedrag-gozubuyuk-na-terugdraaien-rood-bij-vvv-fc-groningen.html</td>\n",
       "      <td>Serdar Gözübüyük wist de schijnwerpers op zich gericht tijdens de weinig verheffende remise tussen VVV-Venlo en FC Groningen (0-0). De scheidsrechter verbaasde met zijn beslissing een rode kaart v...</td>\n",
       "      <td>sport</td>\n",
       "    </tr>\n",
       "    <tr>\n",
       "      <th>4</th>\n",
       "      <td>Fotograaf zoekt dubbelgangers van figuren op de Nachtwacht</td>\n",
       "      <td>2018-12-17</td>\n",
       "      <td>https://www.nos.nl/artikel/2263948-fotograaf-zoekt-dubbelgangers-van-figuren-op-de-nachtwacht.html</td>\n",
       "      <td>De Amsterdamse fotograaf Julius Rooymans is op zoek naar lookalikes van de personen die op de Nachtwacht staan afgebeeld. En naar iemand die lijkt op de schilder Rembrandt.Hij heeft inmiddels veer...</td>\n",
       "      <td>regio</td>\n",
       "    </tr>\n",
       "  </tbody>\n",
       "</table>\n",
       "</div>"
      ],
      "text/plain": [
       "                                                                     Title  \\\n",
       "0   Na vertrek Keizer staat Damien Hertog plots aan het roer bij Al-Jazira   \n",
       "1      Eerst waren de Saudische miljarden welkom, nu is de techwereld stil   \n",
       "2           Duitse minister: ondertekenen migratiepact desnoods uitstellen   \n",
       "3  Buijs hekelt gedrag Gözübüyük na terugdraaien rood bij VVV-FC Groningen   \n",
       "4               Fotograaf zoekt dubbelgangers van figuren op de Nachtwacht   \n",
       "\n",
       "         Date  \\\n",
       "0  2018-11-27   \n",
       "1  2018-10-23   \n",
       "2  2018-11-19   \n",
       "3  2018-12-09   \n",
       "4  2018-12-17   \n",
       "\n",
       "                                                                                                              Link  \\\n",
       "0   https://www.nos.nl/artikel/2261038-na-vertrek-keizer-staat-damien-hertog-plots-aan-het-roer-bij-al-jazira.html   \n",
       "1       https://www.nos.nl/artikel/2256069-eerst-waren-de-saudische-miljarden-welkom-nu-is-de-techwereld-stil.html   \n",
       "2            https://www.nos.nl/artikel/2259899-duitse-minister-ondertekenen-migratiepact-desnoods-uitstellen.html   \n",
       "3  https://www.nos.nl/artikel/2262753-buijs-hekelt-gedrag-gozubuyuk-na-terugdraaien-rood-bij-vvv-fc-groningen.html   \n",
       "4               https://www.nos.nl/artikel/2263948-fotograaf-zoekt-dubbelgangers-van-figuren-op-de-nachtwacht.html   \n",
       "\n",
       "                                                                                                                                                                                                      Text  \\\n",
       "0  Na een kortstondig avontuur als hoofdtrainer van Ajax trok Marcel Keizer afgelopen zomer naar het Midden-Oosten. Hij werd trainer van Al-Jazira, een topclub in de Verenigde Arabische Emiraten (VAE...   \n",
       "1  De afgelopen jaren stonden techbedrijven in de rij om financiering te krijgen van Saudi-Arabië. Vele miljarden vloeiden vanuit het olierijke land naar de westkust van Amerika. Met de dood van jour...   \n",
       "2  In Duitsland neemt de weerstand tegen het VN-migratiepact toe. Naast de rechts-populistische partij AfD roeren ook steeds meer leden vanuit de partij van bondskanselier Merkel CDU zich tegen de on...   \n",
       "3  Serdar Gözübüyük wist de schijnwerpers op zich gericht tijdens de weinig verheffende remise tussen VVV-Venlo en FC Groningen (0-0). De scheidsrechter verbaasde met zijn beslissing een rode kaart v...   \n",
       "4  De Amsterdamse fotograaf Julius Rooymans is op zoek naar lookalikes van de personen die op de Nachtwacht staan afgebeeld. En naar iemand die lijkt op de schilder Rembrandt.Hij heeft inmiddels veer...   \n",
       "\n",
       "     Category  \n",
       "0       sport  \n",
       "1    economie  \n",
       "2  buitenland  \n",
       "3       sport  \n",
       "4       regio  "
      ]
     },
     "execution_count": 5,
     "metadata": {},
     "output_type": "execute_result"
    }
   ],
   "source": [
    "# remove records with no text\n",
    "print(\"{} records with no text were removed\".format(df.loc[df.Text.isna()].shape[0]))\n",
    "df = df.loc[~df.Text.isna()]\n",
    "\n",
    "# shuffle data\n",
    "df = df.sample(frac=1, random_state = 77).reset_index(drop=True)\n",
    "df.index = range(df.shape[0]) #reindex\n",
    "df.head()"
   ]
  },
  {
   "cell_type": "markdown",
   "metadata": {},
   "source": [
    "Let's take a look at the frequency distribution of the 'Category' column, which will function as the target."
   ]
  },
  {
   "cell_type": "code",
   "execution_count": 6,
   "metadata": {},
   "outputs": [
    {
     "data": {
      "image/png": "[encoded data removed]",
      "text/plain": [
       "<Figure size 1296x288 with 1 Axes>"
      ]
     },
     "metadata": {},
     "output_type": "display_data"
    }
   ],
   "source": [
    "def plot_freq(df, colname):\n",
    "    set_style(\"darkgrid\")\n",
    "    plt.figure(figsize=(18,4))\n",
    "    palette = sns.color_palette(\"Greens\", len(df[colname]))\n",
    "    rank = df[colname].sort_values(ascending=True).argsort()\n",
    "    ax = df[colname].sort_values(ascending=False).plot(kind='bar',color=np.array(palette[::-1])[rank] ,fontsize=14)\n",
    "\n",
    "    # annotate data labels\n",
    "    for i,child in enumerate(ax.get_children()[:df[colname].size]):\n",
    "        ax.text(i,child.get_bbox().y1,list(np.round(df[colname].sort_values(ascending=False), decimals=2))[i], horizontalalignment ='center', fontsize=14)\n",
    "\n",
    "    ax.get_yaxis().set_major_formatter(plt.FuncFormatter(lambda x, loc: \"{:,}\".format(int(x))))\n",
    "    ax.spines['bottom'].set_color('#CCCCCC')\n",
    "    ax.spines['bottom'].set_linewidth(2)\n",
    "    ax.spines['left'].set_color('#CCCCCC')\n",
    "    ax.spines['left'].set_linewidth(2)\n",
    "    plt.ylabel('% of news articles', fontsize=16)\n",
    "    plt.xlabel('Category', fontsize=16)\n",
    "    plt.title(\"Frequency of target categories in %\", fontsize=18)\n",
    "    plt.xticks(rotation=25)\n",
    "    plt.show()\n",
    "    \n",
    "plot_freq(df = pd.DataFrame(df.Category.value_counts(normalize=True))*100, colname = \"Category\")"
   ]
  },
  {
   "cell_type": "markdown",
   "metadata": {},
   "source": [
    "Since the four categories with the lowest counts are quite small, let's drop these for further analyses. One could argue that 'Economie' and 'Politiek' should also be dropped, but I suspect these news articles will have a distinct enough corpus in order for a good classifier to predict these categories well. With the selected categories, we cover over 95% of all articles, which is considered sufficient."
   ]
  },
  {
   "cell_type": "code",
   "execution_count": 7,
   "metadata": {},
   "outputs": [
    {
     "name": "stdout",
     "output_type": "stream",
     "text": [
      "The resulting dataframe has 28259 rows and 5 columns\n"
     ]
    }
   ],
   "source": [
    "df = df[df['Category'].isin(['sport', 'buitenland','binnenland','regio','politiek','economie'])]\n",
    "print('The resulting dataframe has {} rows and {} columns'.format(df.shape[0],df.shape[1]))"
   ]
  },
  {
   "cell_type": "markdown",
   "metadata": {},
   "source": [
    "## 2. Cleaning data"
   ]
  },
  {
   "cell_type": "code",
   "execution_count": 8,
   "metadata": {},
   "outputs": [],
   "source": [
    "from nltk import FreqDist\n",
    "from nltk.corpus import stopwords\n",
    "import spacy"
   ]
  },
  {
   "cell_type": "markdown",
   "metadata": {},
   "source": [
    "First, we will print an example to show the content of a news article. Since the articles are edited, the data is already quite clean. In the following example we notice that an apostrophe is sometimes preceded by a backward slash. Along with quotation marks, dashes, and other non-alphabetical tokens, these will be removed from the corpus since they don't contain any valuable information for the models. By cleaning the data, we would like te see this message transformed into a series of alphabetical tokens. "
   ]
  },
  {
   "cell_type": "code",
   "execution_count": 9,
   "metadata": {},
   "outputs": [
    {
     "data": {
      "text/plain": [
       "'Na een kortstondig avontuur als hoofdtrainer van Ajax trok Marcel Keizer afgelopen zomer naar het Midden-Oosten. Hij werd trainer van Al-Jazira, een topclub in de Verenigde Arabische Emiraten (VAE).In zijn kielzog werd Damien Hertog, oud-speler van onder meer Excelsior en RBC Roosendaal, zijn assistent. Tot ruim twee weken geleden. Keizer vertrok naar Sporting Portugal, zonder Hertog.Zodoende is Hertog nu plots de hoofdtrainer van Al-Jazira, \\'de trots van Abu Dhabi\\', zoals vrijwel overal rond het trainingscomplex voor iedereen is te lezen.Verslaggever Martin Vriesema zocht Hertog op in Abu Dhabi, op zijn werkplek. \"Eerst zat ik aan het zijkantje\", wijst Hertog in het bescheiden kantoortje van de technische staf naar de vergadertafel. \"Maar Marcel moest zo nodig naar Sporting, dus hebben we een stoelendans gedaan.\"Een dans die voor Hertog dus is geëindigd aan het hoofd van de tafel, de plek van de hoofdtrainer.'"
      ]
     },
     "execution_count": 9,
     "metadata": {},
     "output_type": "execute_result"
    }
   ],
   "source": [
    "df['Text'][0]"
   ]
  },
  {
   "cell_type": "markdown",
   "metadata": {},
   "source": [
    "For good measure, let's examine the most frequent alphabetical words in the corpus. Not surprisingly, the corpus contains a lot of stop words and other trivial non-domain specific words. By cleaning the data, we would like some more specific words to show up in the frequency counts."
   ]
  },
  {
   "cell_type": "code",
   "execution_count": 10,
   "metadata": {},
   "outputs": [],
   "source": [
    "# function to plot most frequent terms\n",
    "def freq_words(x, terms = 30):\n",
    "    set_style(\"darkgrid\")\n",
    "    plt.figure(figsize=(18,4))\n",
    "    all_words = ' '.join([text for text in x])\n",
    "    all_words = all_words.split()\n",
    "    fdist = FreqDist(all_words)\n",
    "    words_df = pd.DataFrame({'word':list(fdist.keys()), 'count':list(fdist.values())})\n",
    "    words_df = words_df.nlargest(columns=\"count\", n = terms)\n",
    "    words_df.set_index('word', inplace=True)\n",
    "    \n",
    "    palette = sns.color_palette(\"Greens\", len(words_df['count']))\n",
    "    rank = words_df['count'].sort_values(ascending=True).argsort()\n",
    "    ax = words_df['count'].sort_values(ascending=False).plot(kind='bar',color=np.array(palette[::-1])[rank] ,fontsize=14)\n",
    "\n",
    "    ax.get_yaxis().set_major_formatter(plt.FuncFormatter(lambda x, loc: \"{:,}\".format(int(x))))\n",
    "    ax.spines['bottom'].set_color('#CCCCCC')\n",
    "    ax.spines['bottom'].set_linewidth(2)\n",
    "    ax.spines['left'].set_color('#CCCCCC')\n",
    "    ax.spines['left'].set_linewidth(2)\n",
    "    plt.ylabel('Frequency count', fontsize=16)\n",
    "    plt.xlabel('Word', fontsize=16)\n",
    "    plt.title(\"Frequency of words in corpus\", fontsize=18)\n",
    "    plt.xticks(rotation=25)\n",
    "    plt.show()"
   ]
  },
  {
   "cell_type": "code",
   "execution_count": 11,
   "metadata": {},
   "outputs": [
    {
     "data": {
      "image/png": "[encoded data removed]",
      "text/plain": [
       "<Figure size 1296x288 with 1 Axes>"
      ]
     },
     "metadata": {},
     "output_type": "display_data"
    }
   ],
   "source": [
    "freq_words(df['Text'])"
   ]
  },
  {
   "cell_type": "markdown",
   "metadata": {},
   "source": [
    "Let's clean the data. I am hesistant to __lemmatize__ or __stem__ the corpus, since the objective is to construct document vectors using word embeddings. __Tomas Mikolov__ - one of the developers of _word2vec_ - hints at cleaning the text not too extensively. For the same reason, __POS - tagging__ is not used to filter out words with a certain Part of Speach tag . <br><br>\n",
    "\n",
    "_edit: some iterations of model estimation were performed using the lemmatized corpus, but this did not improve the model performance_."
   ]
  },
  {
   "cell_type": "code",
   "execution_count": 12,
   "metadata": {},
   "outputs": [],
   "source": [
    "stop_words_extra = ['aan','aangaande','aangezien','al','aldaar','aldus','alhoewel',\n",
    " 'alias','alle','allebei','alsnog','altijd','altoos','ander','andere','anders',\n",
    " 'anderszins','behalve','behoudens','beide','beiden','ben','beneden','bent','bepaald','betreffende',\n",
    " 'bij','binnenin','boven','bovenal','bovendien','bovengenoemd','bovenstaand','bovenvermeld',\n",
    " 'daar','daarheen','daarin','daarna','daarnet','daarom','daarop','daarvanlangs','dan',\n",
    " 'dat','de','die','dikwijls','dit','door','doorgaand','dus','echter','eerdat',\n",
    " 'eerlang','elk','elke','en','enig','enigszins','er','erdoor','even','eveneens',\n",
    " 'evenwel','gauw','gedurende','gehad','gekund','geleden','gemoeten','gemogen',\n",
    " 'geweest','gewoon','gewoonweg','haar','had','hadden','hare','heb','hebben','hebt','heeft','hem',\n",
    " 'hen','het','hierbeneden','hierboven','hij','hoe','hoewel','hun','hunne','ik','ikzelf','in',\n",
    " 'inmiddels','inzake','is','jezelf','jij','jijzelf','jou','jouw','jouwe','juist','jullie','kan',\n",
    " 'klaar','kon','konden','krachtens','kunnen','kunt','later','liever','maar','mag','meer','met',\n",
    " 'mezelf','mij','mijn','mijnent','mijner','mijzelf','misschien','mocht','mochten','moest','moesten',\n",
    " 'moet','moeten','mogen', 'n', 'na','naar','nadat','net','niet','noch','nog','nogal','nu','of','ofschoon',\n",
    " 'om','omdat','omstreeks','omtrent','omver','onder','ondertussen','ongeveer','ons',\n",
    " 'onszelf','onze','ook','op','opnieuw','opzij','over','overigens','pas','precies','reeds',\n",
    " 'rondom','sedert','sinds','s', 'sindsdien','sommige','spoedig','steeds','tamelijk','tenzij',\n",
    " 'terwijl','thans','tijdens','toch','toen','toenmaals','toenmalig','tot','totdat','tussen','uit',\n",
    " 'vaak','van','vandaan','vanuit','vanwege','veeleer','verder','vervolgens','vol',\n",
    " 'volgens','voor','vooraf','vooral','vooralsnog','voorbij','voordat','voorheen',\n",
    " 'vrij','vroeg','waar','waarom','wanneer','want','waren','was','wat',\n",
    " 'wegens','wel', 'we', 'weldra','welk','welke','wie','wiens','wier','wij','wijzelf','zal',\n",
    " 'ze','zelfs','zichzelf','zij','zijn','zijne','zo','zodra','zonder','zou','zouden','zowat','zulke',\n",
    " 'zullen','zult', 'zegt']"
   ]
  },
  {
   "cell_type": "code",
   "execution_count": 13,
   "metadata": {},
   "outputs": [],
   "source": [
    "# remove numbers, punctuation and other non-alphabetical items\n",
    "df['Text'] = df['Text'].str.replace(\"[^a-zA-Z#]\", \" \")\n",
    "df['Text'] = df['Text'].str.replace(\"'\\'\", \" \")\n",
    "\n",
    "# normalize to lowercase\n",
    "df['Text'] = df['Text'].apply(lambda x: x.lower())\n",
    "\n",
    "# stop word removal\n",
    "stop_words = stopwords.words('dutch')\n",
    "stop_words = stop_words + stop_words_extra\n",
    "df['Text'] = df['Text'].apply(lambda x: ' '.join([word for word in x.split() if word not in stop_words]))\n",
    "\n",
    "# remove single letters\n",
    "df['Text'] = df['Text'].apply(lambda x: ' '.join([word for word in x.split() if len(word) > 1]))\n",
    "\n",
    "# lemmatization \n",
    "def lemmatize():\n",
    "    nlp = spacy.load('nl_core_news_sm') \n",
    "    df['Text'] = df['Text'].apply(lambda x: ' '.join([word.lemma_ for word in nlp(x)]))\n",
    "\n",
    "#lemmatize()"
   ]
  },
  {
   "cell_type": "markdown",
   "metadata": {},
   "source": [
    "After these cleaning steps, let's inspect the data once more. It seems that the most frequent words contain some more domain-specific words, which is good."
   ]
  },
  {
   "cell_type": "code",
   "execution_count": 14,
   "metadata": {
    "scrolled": true
   },
   "outputs": [
    {
     "data": {
      "text/plain": [
       "'kortstondig avontuur hoofdtrainer ajax trok marcel keizer afgelopen zomer midden oosten trainer jazira topclub verenigde arabische emiraten vae kielzog damien hertog oud speler excelsior rbc roosendaal assistent ruim twee weken keizer vertrok sporting portugal hertog zodoende hertog plots hoofdtrainer jazira trots abu dhabi zoals vrijwel overal rond trainingscomplex iedereen lezen verslaggever martin vriesema zocht hertog abu dhabi werkplek eerst zat zijkantje wijst hertog bescheiden kantoortje technische staf vergadertafel marcel nodig sporting stoelendans gedaan dans hertog indigd hoofd tafel plek hoofdtrainer'"
      ]
     },
     "execution_count": 14,
     "metadata": {},
     "output_type": "execute_result"
    }
   ],
   "source": [
    "df['Text'][0]"
   ]
  },
  {
   "cell_type": "code",
   "execution_count": 15,
   "metadata": {},
   "outputs": [
    {
     "data": {
      "image/png": "[encoded data removed]",
      "text/plain": [
       "<Figure size 1296x288 with 1 Axes>"
      ]
     },
     "metadata": {},
     "output_type": "display_data"
    }
   ],
   "source": [
    "freq_words(df['Text'])"
   ]
  },
  {
   "cell_type": "markdown",
   "metadata": {},
   "source": [
    "Finally let's split the data for machine learning purposes."
   ]
  },
  {
   "cell_type": "code",
   "execution_count": 16,
   "metadata": {},
   "outputs": [],
   "source": [
    "# split data\n",
    "X_train, X_test, y_train, y_test  = train_test_split(\n",
    "                            df['Text']\n",
    "                            , df['Category']\n",
    "                            , stratify=df['Category']\n",
    "                            , random_state=77)\n",
    "\n",
    "# label encode\n",
    "encoder = preprocessing.LabelEncoder()\n",
    "y_train = encoder.fit_transform(y_train)\n",
    "y_test = encoder.fit_transform(y_test)\n",
    "\n",
    "#df.to_csv(\"../Datasets/NOS_shuffled.csv\", index=False, index_label ='index')"
   ]
  },
  {
   "cell_type": "markdown",
   "metadata": {},
   "source": [
    "## 3. Feature Engineering"
   ]
  },
  {
   "cell_type": "markdown",
   "metadata": {},
   "source": [
    "In this section, we will be creating several feature sets in order to build the models. It would be interesting to see if feature sets that use more complex techniques (such as word embedding in the case of Doc2Vec) perform better than the more 'ordinary' methods such as Bag of Words. These feature sets can be further combined using unsupervised techniques to maximize model performance, but this is out of scope of this project. My goal here was to get a feel of how these feature sets behave when compared to several models.\n",
    "\n",
    "For most methods described in this section holds that the hyperparameters were optimized to certain extend (to the best of my Macbook's ability) by using `GridSearchCV` in a `Pipeline` based on a robust classifier."
   ]
  },
  {
   "cell_type": "markdown",
   "metadata": {},
   "source": [
    "The following feature sets are constructed in this section:\n",
    "\n",
    "#### 3.1 Bag of Words \n",
    "#### 3.2 Term Frequency - Inverse Document Frequency (TF-IDF)\n",
    "#### 3.3 Averaged Word Embeddings \n",
    "#### 3.4 Topic Models (Latent Dirichlet Allocation) \n",
    "#### 3.5 Doc2Vec "
   ]
  },
  {
   "cell_type": "code",
   "execution_count": 17,
   "metadata": {},
   "outputs": [
    {
     "name": "stderr",
     "output_type": "stream",
     "text": [
      "Using TensorFlow backend.\n"
     ]
    }
   ],
   "source": [
    "from sklearn import model_selection, linear_model, naive_bayes, metrics, svm\n",
    "from sklearn.feature_extraction.text import TfidfVectorizer, CountVectorizer\n",
    "import lda\n",
    "from nltk.tokenize import word_tokenize\n",
    "from sklearn.preprocessing import scale\n",
    "from nltk.corpus import stopwords\n",
    "import string\n",
    "import spacy\n",
    "from keras.preprocessing import text, sequence\n",
    "from sklearn.externals import joblib\n",
    "import pickle"
   ]
  },
  {
   "cell_type": "code",
   "execution_count": 69,
   "metadata": {},
   "outputs": [],
   "source": [
    "# dict to store feature sets in\n",
    "feature_dct = {}"
   ]
  },
  {
   "cell_type": "markdown",
   "metadata": {},
   "source": [
    "### 3.1 Bag of Words"
   ]
  },
  {
   "cell_type": "markdown",
   "metadata": {},
   "source": [
    "For our first feature set, we create a __Bag of Words__ where the rows represent the news articles, and where the columns represent unique words in the corpus, and the cells represent the frequency of the word counts. Notice we are fitting the `CountVectorizer` on the train set. The transform method is called separately for the train set and test set after splitting. This makes sure that the column length is equal for both the `X_train` and `X_test` sets, but more importantly, it prevents `leakage` from the test set into the train set."
   ]
  },
  {
   "cell_type": "code",
   "execution_count": 39,
   "metadata": {},
   "outputs": [
    {
     "name": "stdout",
     "output_type": "stream",
     "text": [
      "Resulting dataframe X_train_f1 has 21194 rows and 2000 columns\n"
     ]
    },
    {
     "data": {
      "text/html": [
       "<div>\n",
       "<style scoped>\n",
       "    .dataframe tbody tr th:only-of-type {\n",
       "        vertical-align: middle;\n",
       "    }\n",
       "\n",
       "    .dataframe tbody tr th {\n",
       "        vertical-align: top;\n",
       "    }\n",
       "\n",
       "    .dataframe thead th {\n",
       "        text-align: right;\n",
       "    }\n",
       "</style>\n",
       "<table border=\"1\" class=\"dataframe\">\n",
       "  <thead>\n",
       "    <tr style=\"text-align: right;\">\n",
       "      <th></th>\n",
       "      <th>0</th>\n",
       "      <th>1</th>\n",
       "      <th>2</th>\n",
       "      <th>3</th>\n",
       "      <th>4</th>\n",
       "      <th>5</th>\n",
       "      <th>6</th>\n",
       "      <th>7</th>\n",
       "      <th>8</th>\n",
       "      <th>9</th>\n",
       "      <th>...</th>\n",
       "      <th>1990</th>\n",
       "      <th>1991</th>\n",
       "      <th>1992</th>\n",
       "      <th>1993</th>\n",
       "      <th>1994</th>\n",
       "      <th>1995</th>\n",
       "      <th>1996</th>\n",
       "      <th>1997</th>\n",
       "      <th>1998</th>\n",
       "      <th>1999</th>\n",
       "    </tr>\n",
       "  </thead>\n",
       "  <tbody>\n",
       "    <tr>\n",
       "      <th>0</th>\n",
       "      <td>0</td>\n",
       "      <td>0</td>\n",
       "      <td>0</td>\n",
       "      <td>0</td>\n",
       "      <td>0</td>\n",
       "      <td>0</td>\n",
       "      <td>0</td>\n",
       "      <td>0</td>\n",
       "      <td>0</td>\n",
       "      <td>0</td>\n",
       "      <td>...</td>\n",
       "      <td>0</td>\n",
       "      <td>0</td>\n",
       "      <td>0</td>\n",
       "      <td>0</td>\n",
       "      <td>0</td>\n",
       "      <td>0</td>\n",
       "      <td>0</td>\n",
       "      <td>0</td>\n",
       "      <td>0</td>\n",
       "      <td>0</td>\n",
       "    </tr>\n",
       "    <tr>\n",
       "      <th>1</th>\n",
       "      <td>0</td>\n",
       "      <td>0</td>\n",
       "      <td>0</td>\n",
       "      <td>0</td>\n",
       "      <td>0</td>\n",
       "      <td>0</td>\n",
       "      <td>0</td>\n",
       "      <td>0</td>\n",
       "      <td>0</td>\n",
       "      <td>0</td>\n",
       "      <td>...</td>\n",
       "      <td>1</td>\n",
       "      <td>0</td>\n",
       "      <td>0</td>\n",
       "      <td>0</td>\n",
       "      <td>0</td>\n",
       "      <td>0</td>\n",
       "      <td>0</td>\n",
       "      <td>0</td>\n",
       "      <td>0</td>\n",
       "      <td>0</td>\n",
       "    </tr>\n",
       "    <tr>\n",
       "      <th>2</th>\n",
       "      <td>0</td>\n",
       "      <td>0</td>\n",
       "      <td>0</td>\n",
       "      <td>0</td>\n",
       "      <td>0</td>\n",
       "      <td>0</td>\n",
       "      <td>0</td>\n",
       "      <td>0</td>\n",
       "      <td>0</td>\n",
       "      <td>0</td>\n",
       "      <td>...</td>\n",
       "      <td>0</td>\n",
       "      <td>0</td>\n",
       "      <td>0</td>\n",
       "      <td>0</td>\n",
       "      <td>0</td>\n",
       "      <td>0</td>\n",
       "      <td>0</td>\n",
       "      <td>0</td>\n",
       "      <td>0</td>\n",
       "      <td>0</td>\n",
       "    </tr>\n",
       "    <tr>\n",
       "      <th>3</th>\n",
       "      <td>0</td>\n",
       "      <td>0</td>\n",
       "      <td>0</td>\n",
       "      <td>0</td>\n",
       "      <td>0</td>\n",
       "      <td>0</td>\n",
       "      <td>0</td>\n",
       "      <td>0</td>\n",
       "      <td>0</td>\n",
       "      <td>0</td>\n",
       "      <td>...</td>\n",
       "      <td>1</td>\n",
       "      <td>1</td>\n",
       "      <td>0</td>\n",
       "      <td>0</td>\n",
       "      <td>1</td>\n",
       "      <td>0</td>\n",
       "      <td>0</td>\n",
       "      <td>0</td>\n",
       "      <td>0</td>\n",
       "      <td>0</td>\n",
       "    </tr>\n",
       "    <tr>\n",
       "      <th>4</th>\n",
       "      <td>0</td>\n",
       "      <td>0</td>\n",
       "      <td>0</td>\n",
       "      <td>0</td>\n",
       "      <td>0</td>\n",
       "      <td>0</td>\n",
       "      <td>0</td>\n",
       "      <td>0</td>\n",
       "      <td>0</td>\n",
       "      <td>2</td>\n",
       "      <td>...</td>\n",
       "      <td>0</td>\n",
       "      <td>0</td>\n",
       "      <td>0</td>\n",
       "      <td>0</td>\n",
       "      <td>0</td>\n",
       "      <td>0</td>\n",
       "      <td>0</td>\n",
       "      <td>0</td>\n",
       "      <td>0</td>\n",
       "      <td>0</td>\n",
       "    </tr>\n",
       "  </tbody>\n",
       "</table>\n",
       "<p>5 rows × 2000 columns</p>\n",
       "</div>"
      ],
      "text/plain": [
       "   0     1     2     3     4     5     6     7     8     9     ...  1990  \\\n",
       "0     0     0     0     0     0     0     0     0     0     0  ...     0   \n",
       "1     0     0     0     0     0     0     0     0     0     0  ...     1   \n",
       "2     0     0     0     0     0     0     0     0     0     0  ...     0   \n",
       "3     0     0     0     0     0     0     0     0     0     0  ...     1   \n",
       "4     0     0     0     0     0     0     0     0     0     2  ...     0   \n",
       "\n",
       "   1991  1992  1993  1994  1995  1996  1997  1998  1999  \n",
       "0     0     0     0     0     0     0     0     0     0  \n",
       "1     0     0     0     0     0     0     0     0     0  \n",
       "2     0     0     0     0     0     0     0     0     0  \n",
       "3     1     0     0     1     0     0     0     0     0  \n",
       "4     0     0     0     0     0     0     0     0     0  \n",
       "\n",
       "[5 rows x 2000 columns]"
      ]
     },
     "execution_count": 39,
     "metadata": {},
     "output_type": "execute_result"
    }
   ],
   "source": [
    "count_vectorizer = CountVectorizer( max_df = 1.0\n",
    "                                   , min_df = 1\n",
    "                                   , ngram_range = (1,2)\n",
    "                                   , max_features = 2000) \n",
    "\n",
    "count_vect = count_vectorizer.fit(X_train) \n",
    "\n",
    "# transform the training and validation data using count vectorizer object\n",
    "X_train_f1 =  count_vect.transform(X_train)\n",
    "X_test_f1 =  count_vect.transform(X_test)\n",
    "\n",
    "# to dataframe\n",
    "X_train_f1 = pd.DataFrame(X_train_f1.toarray())\n",
    "X_test_f1 = pd.DataFrame(X_test_f1.toarray())\n",
    "\n",
    "# check data\n",
    "print('Resulting dataframe X_train_f1 has {} rows and {} columns'.format(X_train_f1.shape[0]\n",
    "                                                                         , X_train_f1.shape[1]))\n",
    "X_train_f1.head()"
   ]
  },
  {
   "cell_type": "code",
   "execution_count": 71,
   "metadata": {},
   "outputs": [],
   "source": [
    "feature_dct['Bag of Words'] = [X_train_f1, X_test_f1]"
   ]
  },
  {
   "cell_type": "markdown",
   "metadata": {},
   "source": [
    "### 3.2 Term Frequency - Inverse Document Frequency (TF-IDF)"
   ]
  },
  {
   "cell_type": "markdown",
   "metadata": {},
   "source": [
    "The TF-IDF score represents the relative importance of a term in the document and the entire corpus. This score is composed of the normalized Term Frequency (TF) and the Inverse Document Frequency (IDF), which is the log of the number of documents in the total corpus divided by the number of documents where the specific term appears.\n",
    "\n",
    "`TF(t)` = (Number of times term t appears in a document) / (Total number of terms in the document)\n",
    "<br><br>\n",
    "`IDF(t)` = log_e(Total number of documents / Number of documents with term t in it)\n",
    "\n",
    "As with the `CountVectorizer`, we fit the `TfidfVectorizer` on the train set and transform the train and test set separately after fitting the object."
   ]
  },
  {
   "cell_type": "code",
   "execution_count": 50,
   "metadata": {},
   "outputs": [
    {
     "name": "stdout",
     "output_type": "stream",
     "text": [
      "Resulting dataframe X_train_f2 has 21194 rows and 2000 columns\n"
     ]
    },
    {
     "data": {
      "text/html": [
       "<div>\n",
       "<style scoped>\n",
       "    .dataframe tbody tr th:only-of-type {\n",
       "        vertical-align: middle;\n",
       "    }\n",
       "\n",
       "    .dataframe tbody tr th {\n",
       "        vertical-align: top;\n",
       "    }\n",
       "\n",
       "    .dataframe thead th {\n",
       "        text-align: right;\n",
       "    }\n",
       "</style>\n",
       "<table border=\"1\" class=\"dataframe\">\n",
       "  <thead>\n",
       "    <tr style=\"text-align: right;\">\n",
       "      <th></th>\n",
       "      <th>0</th>\n",
       "      <th>1</th>\n",
       "      <th>2</th>\n",
       "      <th>3</th>\n",
       "      <th>4</th>\n",
       "      <th>5</th>\n",
       "      <th>6</th>\n",
       "      <th>7</th>\n",
       "      <th>8</th>\n",
       "      <th>9</th>\n",
       "      <th>...</th>\n",
       "      <th>1990</th>\n",
       "      <th>1991</th>\n",
       "      <th>1992</th>\n",
       "      <th>1993</th>\n",
       "      <th>1994</th>\n",
       "      <th>1995</th>\n",
       "      <th>1996</th>\n",
       "      <th>1997</th>\n",
       "      <th>1998</th>\n",
       "      <th>1999</th>\n",
       "    </tr>\n",
       "  </thead>\n",
       "  <tbody>\n",
       "    <tr>\n",
       "      <th>0</th>\n",
       "      <td>0.0</td>\n",
       "      <td>0.0</td>\n",
       "      <td>0.0</td>\n",
       "      <td>0.0</td>\n",
       "      <td>0.0</td>\n",
       "      <td>0.0</td>\n",
       "      <td>0.0</td>\n",
       "      <td>0.0</td>\n",
       "      <td>0.0</td>\n",
       "      <td>0.000000</td>\n",
       "      <td>...</td>\n",
       "      <td>0.000000</td>\n",
       "      <td>0.000000</td>\n",
       "      <td>0.0</td>\n",
       "      <td>0.0</td>\n",
       "      <td>0.000000</td>\n",
       "      <td>0.0</td>\n",
       "      <td>0.0</td>\n",
       "      <td>0.0</td>\n",
       "      <td>0.0</td>\n",
       "      <td>0.0</td>\n",
       "    </tr>\n",
       "    <tr>\n",
       "      <th>1</th>\n",
       "      <td>0.0</td>\n",
       "      <td>0.0</td>\n",
       "      <td>0.0</td>\n",
       "      <td>0.0</td>\n",
       "      <td>0.0</td>\n",
       "      <td>0.0</td>\n",
       "      <td>0.0</td>\n",
       "      <td>0.0</td>\n",
       "      <td>0.0</td>\n",
       "      <td>0.000000</td>\n",
       "      <td>...</td>\n",
       "      <td>0.118536</td>\n",
       "      <td>0.000000</td>\n",
       "      <td>0.0</td>\n",
       "      <td>0.0</td>\n",
       "      <td>0.000000</td>\n",
       "      <td>0.0</td>\n",
       "      <td>0.0</td>\n",
       "      <td>0.0</td>\n",
       "      <td>0.0</td>\n",
       "      <td>0.0</td>\n",
       "    </tr>\n",
       "    <tr>\n",
       "      <th>2</th>\n",
       "      <td>0.0</td>\n",
       "      <td>0.0</td>\n",
       "      <td>0.0</td>\n",
       "      <td>0.0</td>\n",
       "      <td>0.0</td>\n",
       "      <td>0.0</td>\n",
       "      <td>0.0</td>\n",
       "      <td>0.0</td>\n",
       "      <td>0.0</td>\n",
       "      <td>0.000000</td>\n",
       "      <td>...</td>\n",
       "      <td>0.000000</td>\n",
       "      <td>0.000000</td>\n",
       "      <td>0.0</td>\n",
       "      <td>0.0</td>\n",
       "      <td>0.000000</td>\n",
       "      <td>0.0</td>\n",
       "      <td>0.0</td>\n",
       "      <td>0.0</td>\n",
       "      <td>0.0</td>\n",
       "      <td>0.0</td>\n",
       "    </tr>\n",
       "    <tr>\n",
       "      <th>3</th>\n",
       "      <td>0.0</td>\n",
       "      <td>0.0</td>\n",
       "      <td>0.0</td>\n",
       "      <td>0.0</td>\n",
       "      <td>0.0</td>\n",
       "      <td>0.0</td>\n",
       "      <td>0.0</td>\n",
       "      <td>0.0</td>\n",
       "      <td>0.0</td>\n",
       "      <td>0.000000</td>\n",
       "      <td>...</td>\n",
       "      <td>0.101460</td>\n",
       "      <td>0.130915</td>\n",
       "      <td>0.0</td>\n",
       "      <td>0.0</td>\n",
       "      <td>0.114989</td>\n",
       "      <td>0.0</td>\n",
       "      <td>0.0</td>\n",
       "      <td>0.0</td>\n",
       "      <td>0.0</td>\n",
       "      <td>0.0</td>\n",
       "    </tr>\n",
       "    <tr>\n",
       "      <th>4</th>\n",
       "      <td>0.0</td>\n",
       "      <td>0.0</td>\n",
       "      <td>0.0</td>\n",
       "      <td>0.0</td>\n",
       "      <td>0.0</td>\n",
       "      <td>0.0</td>\n",
       "      <td>0.0</td>\n",
       "      <td>0.0</td>\n",
       "      <td>0.0</td>\n",
       "      <td>0.206995</td>\n",
       "      <td>...</td>\n",
       "      <td>0.000000</td>\n",
       "      <td>0.000000</td>\n",
       "      <td>0.0</td>\n",
       "      <td>0.0</td>\n",
       "      <td>0.000000</td>\n",
       "      <td>0.0</td>\n",
       "      <td>0.0</td>\n",
       "      <td>0.0</td>\n",
       "      <td>0.0</td>\n",
       "      <td>0.0</td>\n",
       "    </tr>\n",
       "  </tbody>\n",
       "</table>\n",
       "<p>5 rows × 2000 columns</p>\n",
       "</div>"
      ],
      "text/plain": [
       "   0     1     2     3     4     5     6     7     8         9     ...  \\\n",
       "0   0.0   0.0   0.0   0.0   0.0   0.0   0.0   0.0   0.0  0.000000  ...   \n",
       "1   0.0   0.0   0.0   0.0   0.0   0.0   0.0   0.0   0.0  0.000000  ...   \n",
       "2   0.0   0.0   0.0   0.0   0.0   0.0   0.0   0.0   0.0  0.000000  ...   \n",
       "3   0.0   0.0   0.0   0.0   0.0   0.0   0.0   0.0   0.0  0.000000  ...   \n",
       "4   0.0   0.0   0.0   0.0   0.0   0.0   0.0   0.0   0.0  0.206995  ...   \n",
       "\n",
       "       1990      1991  1992  1993      1994  1995  1996  1997  1998  1999  \n",
       "0  0.000000  0.000000   0.0   0.0  0.000000   0.0   0.0   0.0   0.0   0.0  \n",
       "1  0.118536  0.000000   0.0   0.0  0.000000   0.0   0.0   0.0   0.0   0.0  \n",
       "2  0.000000  0.000000   0.0   0.0  0.000000   0.0   0.0   0.0   0.0   0.0  \n",
       "3  0.101460  0.130915   0.0   0.0  0.114989   0.0   0.0   0.0   0.0   0.0  \n",
       "4  0.000000  0.000000   0.0   0.0  0.000000   0.0   0.0   0.0   0.0   0.0  \n",
       "\n",
       "[5 rows x 2000 columns]"
      ]
     },
     "execution_count": 50,
     "metadata": {},
     "output_type": "execute_result"
    }
   ],
   "source": [
    "tfidf_vectorizer = TfidfVectorizer(max_features=2000\n",
    "                                   , min_df = 1\n",
    "                                   , max_df = 1.0\n",
    "                                   , ngram_range=(1, 2))\n",
    "tfidf_vectorizer.fit(X_train)\n",
    "\n",
    "# transform the training and validation data using count vectorizer object\n",
    "X_train_f2 =  tfidf_vectorizer.transform(X_train)\n",
    "X_test_f2 =  tfidf_vectorizer.transform(X_test)\n",
    "\n",
    "# to dataframe\n",
    "X_train_f2 = pd.DataFrame(X_train_f2.toarray())\n",
    "X_test_f2 = pd.DataFrame(X_test_f2.toarray())\n",
    "\n",
    "# check data\n",
    "print('Resulting dataframe X_train_f2 has {} rows and {} columns'.format(X_train_f2.shape[0]\n",
    "                                                                         , X_train_f2.shape[1]))\n",
    "X_train_f2.head()"
   ]
  },
  {
   "cell_type": "code",
   "execution_count": 73,
   "metadata": {},
   "outputs": [],
   "source": [
    "feature_dct['TF-IDF'] = [X_train_f2, X_test_f2]"
   ]
  },
  {
   "cell_type": "markdown",
   "metadata": {},
   "source": [
    "### 3.3 Averaged Word Embeddings"
   ]
  },
  {
   "cell_type": "markdown",
   "metadata": {},
   "source": [
    "The previous features sets are based on frequency distributions. It leaves the model to figure out how and if certain vectors of counts are semantically related. Word embeddings are based on the notion that \"a word is characterised by the company it keeps\". In Word Embeddings, words that occur in the same context are represented by vectors in close proximity to each other. This should provide the model with more information about how certain words in the corpus have the similar meaning based on the distances of the word vectors."
   ]
  },
  {
   "cell_type": "markdown",
   "metadata": {},
   "source": [
    "#### 3.3.1 One vector per unique word"
   ]
  },
  {
   "cell_type": "markdown",
   "metadata": {},
   "source": [
    "A word embedding is a form of representing words and documents using a dense vector representation. The position of a word within the vector space is learned from text and is based on the words that surround the word when it is used. A pre-trained Word embedding model  by __FastText__ is used."
   ]
  },
  {
   "cell_type": "markdown",
   "metadata": {},
   "source": [
    "`Wiki.nl.vec` is a dutch word vector with 300 dimensions (columns) containing floats for close to a million words (rows). The word is found in the first position of each line. Source: https://fasttext.cc/docs/en/pretrained-vectors.html"
   ]
  },
  {
   "cell_type": "code",
   "execution_count": 75,
   "metadata": {},
   "outputs": [
    {
     "name": "stdout",
     "output_type": "stream",
     "text": [
      "Printing first 20 floats for word 'fiets' of total of 300 words: \n",
      "\n",
      "[ 0.72751   0.060679 -0.24799  -0.16265   0.41609   0.32208   0.47915\n",
      "  0.25152   0.3744   -0.066056 -0.45505  -0.13699  -0.4918   -0.019401\n",
      "  0.41358   0.46424  -0.18064  -0.02674   0.34107   0.25978 ]\n"
     ]
    }
   ],
   "source": [
    "# Loading the pretrained word embeddings\n",
    "embeddings_index = {}\n",
    "\n",
    "with open('../Datasets/pre_trained_models/wiki.nl.vec', 'r', encoding=\"utf8\", newline='\\n') as file:\n",
    "    for i, line in enumerate(file):\n",
    "        values = line.split(' ') \n",
    "        if values[0].isalpha(): #only use words that are alphabetical. \n",
    "                                # the first value in line is the word\n",
    "            embeddings_index[values[0]] = np.asarray(values[1:-1], dtype='float32') \n",
    "                                # Word as index of dict, ignore last value (empty string).\n",
    "        \n",
    "print(\"Printing first 20 floats for word 'fiets' of total of {} words: \\n\\n{}\".format(len(embeddings_index['fiets']), embeddings_index['fiets'][:20]))"
   ]
  },
  {
   "cell_type": "code",
   "execution_count": 76,
   "metadata": {},
   "outputs": [
    {
     "name": "stdout",
     "output_type": "stream",
     "text": [
      "The dictionary looks like: {'jaar': 1, 'twee': 2, 'mensen': 3, 'gaat': 4, 'eerste': 5}\n"
     ]
    }
   ],
   "source": [
    "# Creating a tokenizer object\n",
    "token = text.Tokenizer()\n",
    "token.fit_on_texts(X_train)\n",
    "word_index = token.word_index\n",
    "\n",
    "# dictionary where key = unique word and value = token\n",
    "print(\"The dictionary looks like: {}\".format(dict(list(word_index.items())[:5])))"
   ]
  },
  {
   "cell_type": "code",
   "execution_count": 77,
   "metadata": {},
   "outputs": [
    {
     "name": "stdout",
     "output_type": "stream",
     "text": [
      "Resulting word embedding matrix looks like:\n"
     ]
    },
    {
     "data": {
      "text/html": [
       "<div>\n",
       "<style scoped>\n",
       "    .dataframe tbody tr th:only-of-type {\n",
       "        vertical-align: middle;\n",
       "    }\n",
       "\n",
       "    .dataframe tbody tr th {\n",
       "        vertical-align: top;\n",
       "    }\n",
       "\n",
       "    .dataframe thead th {\n",
       "        text-align: right;\n",
       "    }\n",
       "</style>\n",
       "<table border=\"1\" class=\"dataframe\">\n",
       "  <thead>\n",
       "    <tr style=\"text-align: right;\">\n",
       "      <th></th>\n",
       "      <th>0</th>\n",
       "      <th>1</th>\n",
       "      <th>2</th>\n",
       "      <th>3</th>\n",
       "      <th>4</th>\n",
       "      <th>5</th>\n",
       "      <th>6</th>\n",
       "      <th>7</th>\n",
       "      <th>8</th>\n",
       "      <th>9</th>\n",
       "      <th>...</th>\n",
       "      <th>290</th>\n",
       "      <th>291</th>\n",
       "      <th>292</th>\n",
       "      <th>293</th>\n",
       "      <th>294</th>\n",
       "      <th>295</th>\n",
       "      <th>296</th>\n",
       "      <th>297</th>\n",
       "      <th>298</th>\n",
       "      <th>299</th>\n",
       "    </tr>\n",
       "  </thead>\n",
       "  <tbody>\n",
       "    <tr>\n",
       "      <th>0</th>\n",
       "      <td>0.00000</td>\n",
       "      <td>0.000000</td>\n",
       "      <td>0.000000</td>\n",
       "      <td>0.000000</td>\n",
       "      <td>0.00000</td>\n",
       "      <td>0.000000</td>\n",
       "      <td>0.000000</td>\n",
       "      <td>0.00000</td>\n",
       "      <td>0.00000</td>\n",
       "      <td>0.000000</td>\n",
       "      <td>...</td>\n",
       "      <td>0.00000</td>\n",
       "      <td>0.00000</td>\n",
       "      <td>0.00000</td>\n",
       "      <td>0.000000</td>\n",
       "      <td>0.000000</td>\n",
       "      <td>0.000000</td>\n",
       "      <td>0.00000</td>\n",
       "      <td>0.000000</td>\n",
       "      <td>0.000000</td>\n",
       "      <td>0.00000</td>\n",
       "    </tr>\n",
       "    <tr>\n",
       "      <th>1</th>\n",
       "      <td>0.19675</td>\n",
       "      <td>-0.467410</td>\n",
       "      <td>-0.034418</td>\n",
       "      <td>-0.314390</td>\n",
       "      <td>-0.10367</td>\n",
       "      <td>-0.088649</td>\n",
       "      <td>-0.044809</td>\n",
       "      <td>0.43032</td>\n",
       "      <td>0.16537</td>\n",
       "      <td>0.239260</td>\n",
       "      <td>...</td>\n",
       "      <td>0.22761</td>\n",
       "      <td>-0.31373</td>\n",
       "      <td>0.47487</td>\n",
       "      <td>0.080476</td>\n",
       "      <td>-0.106360</td>\n",
       "      <td>0.191540</td>\n",
       "      <td>0.50129</td>\n",
       "      <td>0.035814</td>\n",
       "      <td>-0.013424</td>\n",
       "      <td>0.45983</td>\n",
       "    </tr>\n",
       "    <tr>\n",
       "      <th>2</th>\n",
       "      <td>0.29479</td>\n",
       "      <td>-0.111290</td>\n",
       "      <td>0.108520</td>\n",
       "      <td>0.035400</td>\n",
       "      <td>0.24923</td>\n",
       "      <td>0.241640</td>\n",
       "      <td>0.116530</td>\n",
       "      <td>0.26282</td>\n",
       "      <td>0.29628</td>\n",
       "      <td>0.068585</td>\n",
       "      <td>...</td>\n",
       "      <td>0.15078</td>\n",
       "      <td>-0.10782</td>\n",
       "      <td>0.07169</td>\n",
       "      <td>0.079392</td>\n",
       "      <td>-0.041596</td>\n",
       "      <td>0.193390</td>\n",
       "      <td>0.17452</td>\n",
       "      <td>0.026539</td>\n",
       "      <td>-0.386010</td>\n",
       "      <td>0.12392</td>\n",
       "    </tr>\n",
       "    <tr>\n",
       "      <th>3</th>\n",
       "      <td>-0.14946</td>\n",
       "      <td>-0.084608</td>\n",
       "      <td>-0.236800</td>\n",
       "      <td>-0.003406</td>\n",
       "      <td>0.26112</td>\n",
       "      <td>0.138470</td>\n",
       "      <td>0.505080</td>\n",
       "      <td>0.02066</td>\n",
       "      <td>0.38317</td>\n",
       "      <td>-0.287970</td>\n",
       "      <td>...</td>\n",
       "      <td>0.04291</td>\n",
       "      <td>-0.09517</td>\n",
       "      <td>0.66337</td>\n",
       "      <td>0.257660</td>\n",
       "      <td>0.028031</td>\n",
       "      <td>-0.058234</td>\n",
       "      <td>0.12953</td>\n",
       "      <td>0.012730</td>\n",
       "      <td>-0.050043</td>\n",
       "      <td>0.14206</td>\n",
       "    </tr>\n",
       "    <tr>\n",
       "      <th>4</th>\n",
       "      <td>0.29794</td>\n",
       "      <td>0.074426</td>\n",
       "      <td>-0.342860</td>\n",
       "      <td>-0.103050</td>\n",
       "      <td>0.20629</td>\n",
       "      <td>0.073317</td>\n",
       "      <td>0.353480</td>\n",
       "      <td>-0.12041</td>\n",
       "      <td>0.40991</td>\n",
       "      <td>0.191010</td>\n",
       "      <td>...</td>\n",
       "      <td>-0.16418</td>\n",
       "      <td>-0.12162</td>\n",
       "      <td>0.19880</td>\n",
       "      <td>0.015698</td>\n",
       "      <td>-0.250510</td>\n",
       "      <td>-0.126070</td>\n",
       "      <td>0.24407</td>\n",
       "      <td>-0.202400</td>\n",
       "      <td>-0.052753</td>\n",
       "      <td>0.22424</td>\n",
       "    </tr>\n",
       "  </tbody>\n",
       "</table>\n",
       "<p>5 rows × 300 columns</p>\n",
       "</div>"
      ],
      "text/plain": [
       "       0         1         2         3        4         5         6    \\\n",
       "0  0.00000  0.000000  0.000000  0.000000  0.00000  0.000000  0.000000   \n",
       "1  0.19675 -0.467410 -0.034418 -0.314390 -0.10367 -0.088649 -0.044809   \n",
       "2  0.29479 -0.111290  0.108520  0.035400  0.24923  0.241640  0.116530   \n",
       "3 -0.14946 -0.084608 -0.236800 -0.003406  0.26112  0.138470  0.505080   \n",
       "4  0.29794  0.074426 -0.342860 -0.103050  0.20629  0.073317  0.353480   \n",
       "\n",
       "       7        8         9    ...      290      291      292       293  \\\n",
       "0  0.00000  0.00000  0.000000  ...  0.00000  0.00000  0.00000  0.000000   \n",
       "1  0.43032  0.16537  0.239260  ...  0.22761 -0.31373  0.47487  0.080476   \n",
       "2  0.26282  0.29628  0.068585  ...  0.15078 -0.10782  0.07169  0.079392   \n",
       "3  0.02066  0.38317 -0.287970  ...  0.04291 -0.09517  0.66337  0.257660   \n",
       "4 -0.12041  0.40991  0.191010  ... -0.16418 -0.12162  0.19880  0.015698   \n",
       "\n",
       "        294       295      296       297       298      299  \n",
       "0  0.000000  0.000000  0.00000  0.000000  0.000000  0.00000  \n",
       "1 -0.106360  0.191540  0.50129  0.035814 -0.013424  0.45983  \n",
       "2 -0.041596  0.193390  0.17452  0.026539 -0.386010  0.12392  \n",
       "3  0.028031 -0.058234  0.12953  0.012730 -0.050043  0.14206  \n",
       "4 -0.250510 -0.126070  0.24407 -0.202400 -0.052753  0.22424  \n",
       "\n",
       "[5 rows x 300 columns]"
      ]
     },
     "execution_count": 77,
     "metadata": {},
     "output_type": "execute_result"
    }
   ],
   "source": [
    "# Create a mapping of token and their respective embeddings\n",
    "embedding_matrix = np.zeros((len(word_index) + 1, 300)) # create empty row for each word in word_index\n",
    "\n",
    "for word, i in word_index.items():\n",
    "    embedding_vector = embeddings_index.get(word) # get vector for each word\n",
    "    if embedding_vector is not None:\n",
    "        embedding_matrix[i] = embedding_vector # add to matrix with token as index\n",
    "        \n",
    "print(\"Resulting word embedding matrix looks like:\")\n",
    "pd.DataFrame(embedding_matrix).head() # the index of the matrix is sorted in the dataframe"
   ]
  },
  {
   "cell_type": "markdown",
   "metadata": {},
   "source": [
    "#### 3.3.2 One document vector (row) per document in corpus"
   ]
  },
  {
   "cell_type": "markdown",
   "metadata": {},
   "source": [
    "Section 3.3.1 results in a matrix where we obtain one vector per word. Since we need to have one vector per document, we take the average of the vectors of all words in the documents. This results in the document mean vector."
   ]
  },
  {
   "cell_type": "code",
   "execution_count": 78,
   "metadata": {},
   "outputs": [],
   "source": [
    "# list of lists with tokens per document\n",
    "X_train_tokens = [word_tokenize(doc) for doc in X_train] \n",
    "X_test_tokens = [word_tokenize(doc) for doc in X_test] "
   ]
  },
  {
   "cell_type": "code",
   "execution_count": 79,
   "metadata": {},
   "outputs": [
    {
     "name": "stdout",
     "output_type": "stream",
     "text": [
      "Resulting X_train feature set has 21194 rows and 300 columns\n"
     ]
    },
    {
     "data": {
      "text/html": [
       "<div>\n",
       "<style scoped>\n",
       "    .dataframe tbody tr th:only-of-type {\n",
       "        vertical-align: middle;\n",
       "    }\n",
       "\n",
       "    .dataframe tbody tr th {\n",
       "        vertical-align: top;\n",
       "    }\n",
       "\n",
       "    .dataframe thead th {\n",
       "        text-align: right;\n",
       "    }\n",
       "</style>\n",
       "<table border=\"1\" class=\"dataframe\">\n",
       "  <thead>\n",
       "    <tr style=\"text-align: right;\">\n",
       "      <th></th>\n",
       "      <th>0</th>\n",
       "      <th>1</th>\n",
       "      <th>2</th>\n",
       "      <th>3</th>\n",
       "      <th>4</th>\n",
       "      <th>5</th>\n",
       "      <th>6</th>\n",
       "      <th>7</th>\n",
       "      <th>8</th>\n",
       "      <th>9</th>\n",
       "      <th>...</th>\n",
       "      <th>290</th>\n",
       "      <th>291</th>\n",
       "      <th>292</th>\n",
       "      <th>293</th>\n",
       "      <th>294</th>\n",
       "      <th>295</th>\n",
       "      <th>296</th>\n",
       "      <th>297</th>\n",
       "      <th>298</th>\n",
       "      <th>299</th>\n",
       "    </tr>\n",
       "  </thead>\n",
       "  <tbody>\n",
       "    <tr>\n",
       "      <th>0</th>\n",
       "      <td>0.229457</td>\n",
       "      <td>-0.208680</td>\n",
       "      <td>0.083898</td>\n",
       "      <td>0.002880</td>\n",
       "      <td>0.282883</td>\n",
       "      <td>0.195580</td>\n",
       "      <td>0.180120</td>\n",
       "      <td>0.153170</td>\n",
       "      <td>0.219868</td>\n",
       "      <td>-0.129106</td>\n",
       "      <td>...</td>\n",
       "      <td>-0.115087</td>\n",
       "      <td>0.026281</td>\n",
       "      <td>0.175809</td>\n",
       "      <td>-0.007885</td>\n",
       "      <td>0.015387</td>\n",
       "      <td>-0.004850</td>\n",
       "      <td>0.139650</td>\n",
       "      <td>-0.051903</td>\n",
       "      <td>-0.145417</td>\n",
       "      <td>-0.047879</td>\n",
       "    </tr>\n",
       "    <tr>\n",
       "      <th>1</th>\n",
       "      <td>0.237210</td>\n",
       "      <td>-0.152641</td>\n",
       "      <td>-0.003370</td>\n",
       "      <td>-0.022590</td>\n",
       "      <td>0.204555</td>\n",
       "      <td>0.142159</td>\n",
       "      <td>0.113518</td>\n",
       "      <td>0.176002</td>\n",
       "      <td>0.235740</td>\n",
       "      <td>-0.026234</td>\n",
       "      <td>...</td>\n",
       "      <td>0.068177</td>\n",
       "      <td>-0.187430</td>\n",
       "      <td>0.227247</td>\n",
       "      <td>-0.033927</td>\n",
       "      <td>0.083254</td>\n",
       "      <td>0.042028</td>\n",
       "      <td>0.120275</td>\n",
       "      <td>-0.075542</td>\n",
       "      <td>-0.123172</td>\n",
       "      <td>0.145833</td>\n",
       "    </tr>\n",
       "    <tr>\n",
       "      <th>2</th>\n",
       "      <td>0.324875</td>\n",
       "      <td>-0.206733</td>\n",
       "      <td>0.051643</td>\n",
       "      <td>0.011662</td>\n",
       "      <td>0.234295</td>\n",
       "      <td>0.281445</td>\n",
       "      <td>0.290565</td>\n",
       "      <td>0.248254</td>\n",
       "      <td>0.246463</td>\n",
       "      <td>-0.051404</td>\n",
       "      <td>...</td>\n",
       "      <td>0.050520</td>\n",
       "      <td>-0.245141</td>\n",
       "      <td>0.247211</td>\n",
       "      <td>-0.024957</td>\n",
       "      <td>0.049256</td>\n",
       "      <td>0.048618</td>\n",
       "      <td>0.052405</td>\n",
       "      <td>-0.067223</td>\n",
       "      <td>-0.137873</td>\n",
       "      <td>0.019423</td>\n",
       "    </tr>\n",
       "    <tr>\n",
       "      <th>3</th>\n",
       "      <td>0.282854</td>\n",
       "      <td>-0.214930</td>\n",
       "      <td>0.043223</td>\n",
       "      <td>-0.015540</td>\n",
       "      <td>0.281971</td>\n",
       "      <td>0.187088</td>\n",
       "      <td>0.237237</td>\n",
       "      <td>0.150102</td>\n",
       "      <td>0.200562</td>\n",
       "      <td>-0.009652</td>\n",
       "      <td>...</td>\n",
       "      <td>0.030464</td>\n",
       "      <td>-0.275556</td>\n",
       "      <td>0.278985</td>\n",
       "      <td>-0.017513</td>\n",
       "      <td>0.104579</td>\n",
       "      <td>-0.019963</td>\n",
       "      <td>0.185413</td>\n",
       "      <td>-0.028480</td>\n",
       "      <td>-0.135023</td>\n",
       "      <td>0.117759</td>\n",
       "    </tr>\n",
       "    <tr>\n",
       "      <th>4</th>\n",
       "      <td>0.236052</td>\n",
       "      <td>-0.245587</td>\n",
       "      <td>-0.018274</td>\n",
       "      <td>-0.000984</td>\n",
       "      <td>0.214294</td>\n",
       "      <td>0.227018</td>\n",
       "      <td>0.217021</td>\n",
       "      <td>0.303902</td>\n",
       "      <td>0.303668</td>\n",
       "      <td>-0.140022</td>\n",
       "      <td>...</td>\n",
       "      <td>0.008061</td>\n",
       "      <td>-0.105317</td>\n",
       "      <td>0.242092</td>\n",
       "      <td>-0.057976</td>\n",
       "      <td>0.041013</td>\n",
       "      <td>0.008746</td>\n",
       "      <td>0.153196</td>\n",
       "      <td>-0.099435</td>\n",
       "      <td>-0.123824</td>\n",
       "      <td>-0.025644</td>\n",
       "    </tr>\n",
       "  </tbody>\n",
       "</table>\n",
       "<p>5 rows × 300 columns</p>\n",
       "</div>"
      ],
      "text/plain": [
       "        0         1         2         3         4         5         6    \\\n",
       "0  0.229457 -0.208680  0.083898  0.002880  0.282883  0.195580  0.180120   \n",
       "1  0.237210 -0.152641 -0.003370 -0.022590  0.204555  0.142159  0.113518   \n",
       "2  0.324875 -0.206733  0.051643  0.011662  0.234295  0.281445  0.290565   \n",
       "3  0.282854 -0.214930  0.043223 -0.015540  0.281971  0.187088  0.237237   \n",
       "4  0.236052 -0.245587 -0.018274 -0.000984  0.214294  0.227018  0.217021   \n",
       "\n",
       "        7         8         9    ...       290       291       292       293  \\\n",
       "0  0.153170  0.219868 -0.129106  ... -0.115087  0.026281  0.175809 -0.007885   \n",
       "1  0.176002  0.235740 -0.026234  ...  0.068177 -0.187430  0.227247 -0.033927   \n",
       "2  0.248254  0.246463 -0.051404  ...  0.050520 -0.245141  0.247211 -0.024957   \n",
       "3  0.150102  0.200562 -0.009652  ...  0.030464 -0.275556  0.278985 -0.017513   \n",
       "4  0.303902  0.303668 -0.140022  ...  0.008061 -0.105317  0.242092 -0.057976   \n",
       "\n",
       "        294       295       296       297       298       299  \n",
       "0  0.015387 -0.004850  0.139650 -0.051903 -0.145417 -0.047879  \n",
       "1  0.083254  0.042028  0.120275 -0.075542 -0.123172  0.145833  \n",
       "2  0.049256  0.048618  0.052405 -0.067223 -0.137873  0.019423  \n",
       "3  0.104579 -0.019963  0.185413 -0.028480 -0.135023  0.117759  \n",
       "4  0.041013  0.008746  0.153196 -0.099435 -0.123824 -0.025644  \n",
       "\n",
       "[5 rows x 300 columns]"
      ]
     },
     "execution_count": 79,
     "metadata": {},
     "output_type": "execute_result"
    }
   ],
   "source": [
    "# Function that transform the documents into word embeddings.\n",
    "def transformer(tokens):\n",
    "    doc_means = []\n",
    "    \n",
    "    for doc in tokens:\n",
    "        ls = []\n",
    "        \n",
    "        for w in doc:\n",
    "            ww = w.lower().strip()\n",
    "            if ww in embeddings_index:\n",
    "                ls.append(embeddings_index[ww])\n",
    "        \n",
    "        arr = np.array(ls)\n",
    "        doc_mean_vec = np.mean(arr, axis = 0)\n",
    "        doc_means.append(doc_mean_vec)\n",
    "        \n",
    "    doc_means = np.array(doc_means)     \n",
    "    return pd.DataFrame(doc_means)\n",
    "\n",
    "X_train_f3 = transformer(X_train_tokens)\n",
    "X_test_f3 = transformer(X_test_tokens)\n",
    "\n",
    "# to dataframe\n",
    "X_train_f3 = pd.DataFrame(X_train_f3) #scale?\n",
    "X_test_f3 = pd.DataFrame(X_test_f3) #scale?\n",
    "\n",
    "print('Resulting X_train feature set has {} rows and {} columns'.format(X_train_f3.shape[0], X_train_f3.shape[1]))\n",
    "X_train_f3.head()"
   ]
  },
  {
   "cell_type": "code",
   "execution_count": 80,
   "metadata": {},
   "outputs": [],
   "source": [
    "feature_dct['Averaged word vector'] = [X_train_f3, X_test_f3]"
   ]
  },
  {
   "cell_type": "markdown",
   "metadata": {},
   "source": [
    "### 3.4 Topic models - Latent Dirichlet Allocation (LDA)"
   ]
  },
  {
   "cell_type": "markdown",
   "metadata": {},
   "source": [
    "`Latent Dirichlet Allocation` is a technique that assumes that each document is a mixture of a small number of topics and that each word's presence is attributable to one of the document's topics. It tries to find latent topics that are assigned to each document, so that each document has a probability distribution for all topics found by LDA. Specifically, one obtains a probability estimate of a document belonging to a certain topic. For this case, we hope to capture the news article categories as topics, but it is certainly possible that many more topics are found, and this will actually benefit the supervised model, since it is quite a stretch to assume that only 6 topics will suffice."
   ]
  },
  {
   "cell_type": "code",
   "execution_count": 94,
   "metadata": {},
   "outputs": [],
   "source": [
    "import os\n",
    "import gensim\n",
    "from gensim import corpora\n",
    "from gensim.models import CoherenceModel\n",
    "import pyLDAvis\n",
    "import pyLDAvis.sklearn\n",
    "import pyLDAvis.gensim\n",
    "from tqdm import tqdm\n",
    "pyLDAvis.enable_notebook()"
   ]
  },
  {
   "cell_type": "code",
   "execution_count": 95,
   "metadata": {},
   "outputs": [],
   "source": [
    "# Tokenize\n",
    "X_train_tokens = [word_tokenize(doc) for doc in X_train] \n",
    "\n",
    "# Converting list of documents (corpus) into Document Term Matrix \n",
    "dictionary = corpora.Dictionary(X_train_tokens)\n",
    "doc_term_matrix = [dictionary.doc2bow(doc) for doc in X_train_tokens]"
   ]
  },
  {
   "cell_type": "code",
   "execution_count": 96,
   "metadata": {},
   "outputs": [],
   "source": [
    "# Using Mallet's wrapper for Gensim (make sure Java SE 7.0 or higher is installed)\n",
    "# Download Mallet sklearn wrapper: http://mallet.cs.umass.edu/dist/mallet-2.0.8.zip\n",
    "\n",
    "os.environ.update({\"MALLET_HOME\":r\"/Users/gerbentempelman/mallet\"}) #edit path\n",
    "mallet_path = \"/Users/gerbentempelman/mallet/bin/mallet\" #edit path"
   ]
  },
  {
   "cell_type": "code",
   "execution_count": 98,
   "metadata": {
    "scrolled": true
   },
   "outputs": [
    {
     "name": "stderr",
     "output_type": "stream",
     "text": [
      "\n",
      "\n",
      "\n",
      "  0%|          | 0/20 [00:00<?, ?it/s]\u001b[A\u001b[A\u001b[A\n",
      "\n",
      "\n",
      "  5%|▌         | 1/20 [08:35<2:43:21, 515.88s/it]\u001b[A\u001b[A\u001b[A\n",
      "\n",
      "\n",
      " 10%|█         | 2/20 [18:22<2:41:06, 537.06s/it]\u001b[A\u001b[A\u001b[A\n",
      "\n",
      "\n",
      " 15%|█▌        | 3/20 [28:08<2:36:20, 551.78s/it]\u001b[A\u001b[A\u001b[A\n",
      "\n",
      "\n",
      " 20%|██        | 4/20 [37:29<2:27:52, 554.52s/it]\u001b[A\u001b[A\u001b[A\n",
      "\n",
      "\n",
      " 25%|██▌       | 5/20 [48:33<2:26:50, 587.38s/it]\u001b[A\u001b[A\u001b[A\n",
      "\n",
      "\n",
      " 30%|███       | 6/20 [1:00:33<2:26:18, 627.04s/it]\u001b[A\u001b[A\u001b[A\n",
      "\n",
      "\n",
      " 35%|███▌      | 7/20 [1:13:22<2:25:07, 669.85s/it]\u001b[A\u001b[A\u001b[A\n",
      "\n",
      "\n",
      " 40%|████      | 8/20 [1:27:02<2:22:56, 714.73s/it]\u001b[A\u001b[A\u001b[A\n",
      "\n",
      "\n",
      " 45%|████▌     | 9/20 [1:41:10<2:18:23, 754.87s/it]\u001b[A\u001b[A\u001b[A\n",
      "\n",
      "\n",
      " 50%|█████     | 10/20 [1:57:48<2:17:58, 827.85s/it]\u001b[A\u001b[A\u001b[A\n",
      "\n",
      "\n",
      " 55%|█████▌    | 11/20 [2:12:03<2:05:24, 836.01s/it]\u001b[A\u001b[A\u001b[A\n",
      "\n",
      "\n",
      " 60%|██████    | 12/20 [2:36:38<2:16:59, 1027.44s/it]\u001b[A\u001b[A\u001b[A\n",
      "\n",
      "\n",
      " 65%|██████▌   | 13/20 [4:55:55<6:16:25, 3226.54s/it]\u001b[A\u001b[A\u001b[A\n",
      "\n",
      "\n",
      " 70%|███████   | 14/20 [5:11:27<4:13:49, 2538.20s/it]\u001b[A\u001b[A\u001b[A\n",
      "\n",
      "\n",
      " 75%|███████▌  | 15/20 [5:27:22<2:51:56, 2063.27s/it]\u001b[A\u001b[A\u001b[A\n",
      "\n",
      "\n",
      " 80%|████████  | 16/20 [5:45:08<1:57:36, 1764.03s/it]\u001b[A\u001b[A\u001b[A\n",
      "\n",
      "\n",
      " 85%|████████▌ | 17/20 [6:03:56<1:18:38, 1572.98s/it]\u001b[A\u001b[A\u001b[A\n",
      "\n",
      "\n",
      " 90%|█████████ | 18/20 [6:23:46<48:36, 1458.11s/it]  \u001b[A\u001b[A\u001b[A\n",
      "\n",
      "\n",
      " 95%|█████████▌| 19/20 [6:43:46<23:00, 1380.87s/it]\u001b[A\u001b[A\u001b[A\n",
      "\n",
      "\n",
      "100%|██████████| 20/20 [7:04:28<00:00, 1339.06s/it]\u001b[A\u001b[A\u001b[A"
     ]
    }
   ],
   "source": [
    "def get_coherence_scree(dictionary, corpus, texts, max_topics, start=1, step=10):\n",
    "    coherence_ls = []\n",
    "    model_ls = []\n",
    "    for num_topics in tqdm(range(start, max_topics, step)):\n",
    "        model = gensim.models.wrappers.LdaMallet(mallet_path\n",
    "                                                 , corpus=corpus\n",
    "                                                 , num_topics=num_topics\n",
    "                                                 , id2word=dictionary)\n",
    "        model_ls.append(model)\n",
    "        coherencemodel = CoherenceModel(model=model\n",
    "                                        , texts=texts\n",
    "                                        , dictionary=dictionary\n",
    "                                        , coherence='c_v')\n",
    "        \n",
    "        coherence_ls.append(coherencemodel.get_coherence())\n",
    "\n",
    "    return model_ls, coherence_ls\n",
    "\n",
    "model_ls, coherence_ls = get_coherence_scree(dictionary=dictionary\n",
    "                                            , corpus=doc_term_matrix\n",
    "                                            , texts=X_train_tokens\n",
    "                                            , max_topics=200)"
   ]
  },
  {
   "cell_type": "code",
   "execution_count": 99,
   "metadata": {},
   "outputs": [
    {
     "data": {
      "image/png": "[encoded data removed]",
      "text/plain": [
       "<Figure size 432x288 with 1 Axes>"
      ]
     },
     "metadata": {},
     "output_type": "display_data"
    }
   ],
   "source": [
    "# Show graph to estimate maximum coherence score\n",
    "x = range(1, 200, 10)\n",
    "plt.plot(x, coherence_ls)\n",
    "plt.xlabel(\"Num Topics\")\n",
    "plt.ylabel(\"Coherence score\")\n",
    "plt.legend((\"coherence_values\"), loc='best')\n",
    "plt.show()"
   ]
  },
  {
   "cell_type": "code",
   "execution_count": 121,
   "metadata": {},
   "outputs": [
    {
     "name": "stderr",
     "output_type": "stream",
     "text": [
      "\n",
      "\n",
      "\n",
      "\n",
      "\n",
      "  0%|          | 0/7 [00:00<?, ?it/s]\u001b[A\u001b[A\u001b[A\u001b[A\u001b[A\n",
      "\n",
      "\n",
      "\n",
      "\n",
      " 14%|█▍        | 1/7 [11:34<1:09:24, 694.04s/it]\u001b[A\u001b[A\u001b[A\u001b[A\u001b[A\n",
      "\n",
      "\n",
      "\n",
      "\n",
      " 29%|██▊       | 2/7 [22:41<57:11, 686.21s/it]  \u001b[A\u001b[A\u001b[A\u001b[A\u001b[A\n",
      "\n",
      "\n",
      "\n",
      "\n",
      " 43%|████▎     | 3/7 [32:01<43:13, 648.29s/it]\u001b[A\u001b[A\u001b[A\u001b[A\u001b[A\n",
      "\n",
      "\n",
      "\n",
      "\n",
      " 57%|█████▋    | 4/7 [42:20<31:58, 639.35s/it]\u001b[A\u001b[A\u001b[A\u001b[A\u001b[A\n",
      "\n",
      "\n",
      "\n",
      "\n",
      " 71%|███████▏  | 5/7 [53:45<21:46, 653.14s/it]\u001b[A\u001b[A\u001b[A\u001b[A\u001b[A\n",
      "\n",
      "\n",
      "\n",
      "\n",
      " 86%|████████▌ | 6/7 [1:04:52<10:57, 657.30s/it]\u001b[A\u001b[A\u001b[A\u001b[A\u001b[A\n",
      "\n",
      "\n",
      "\n",
      "\n",
      "100%|██████████| 7/7 [1:35:03<00:00, 1003.26s/it]\u001b[A\u001b[A\u001b[A\u001b[A\u001b[A"
     ]
    }
   ],
   "source": [
    "# Optimize hyperparameters using scree plot of coherence scores\n",
    "\n",
    "def get_coherence_scree_2(dictionary, corpus, texts, max_topics):\n",
    "    coherence_ls = []\n",
    "    model_ls = []\n",
    "    for i in tqdm([0, 10, 50, 100, 500, 1000, 2000]):\n",
    "        model = gensim.models.wrappers.LdaMallet(mallet_path\n",
    "                                                 , corpus=corpus\n",
    "                                                 , num_topics=60\n",
    "                                                 , optimize_interval = i\n",
    "                                                 , id2word=dictionary)\n",
    "        model_ls.append(model)\n",
    "        coherencemodel = CoherenceModel(model=model\n",
    "                                        , texts=texts\n",
    "                                        , dictionary=dictionary\n",
    "                                        , coherence='c_v')\n",
    "        \n",
    "        coherence_ls.append(coherencemodel.get_coherence())\n",
    "\n",
    "    return model_ls, coherence_ls\n",
    "\n",
    "model_ls_2, coherence_ls_2 = get_coherence_scree_2(dictionary=dictionary\n",
    "                                            , corpus=doc_term_matrix\n",
    "                                            , texts=X_train_tokens\n",
    "                                            , max_topics=200)"
   ]
  },
  {
   "cell_type": "code",
   "execution_count": 122,
   "metadata": {},
   "outputs": [
    {
     "data": {
      "image/png": "[encoded data removed]",
      "text/plain": [
       "<Figure size 432x288 with 1 Axes>"
      ]
     },
     "metadata": {},
     "output_type": "display_data"
    }
   ],
   "source": [
    "# Show graph to estimate maximum coherence score\n",
    "x = [0, 10, 50, 100, 500, 1000, 2000]\n",
    "plt.plot(x, coherence_ls_2)\n",
    "plt.xlabel(\"Num Topics\")\n",
    "plt.ylabel(\"Coherence score\")\n",
    "plt.legend((\"coherence_values\"), loc='best')\n",
    "plt.show()"
   ]
  },
  {
   "cell_type": "code",
   "execution_count": 123,
   "metadata": {},
   "outputs": [
    {
     "name": "stdout",
     "output_type": "stream",
     "text": [
      "0 0.5685969192196344\n",
      "10 0.5810905294836224\n",
      "50 0.572670257103159\n",
      "100 0.5951658178065945\n",
      "500 0.5794536405262293\n",
      "1000 0.5715417267895222\n",
      "2000 0.5666071612538965\n"
     ]
    }
   ],
   "source": [
    "for x, y in zip([0, 10, 50, 100, 500, 1000, 2000], coherence_ls_2):\n",
    "    print(x,y)"
   ]
  },
  {
   "cell_type": "code",
   "execution_count": 124,
   "metadata": {},
   "outputs": [
    {
     "data": {
      "text/plain": [
       "[(30,\n",
       "  '0.039*\"verstappen\" + 0.016*\"formule\" + 0.016*\"race\" + 0.016*\"max\" + 0.015*\"red\" + 0.015*\"hamilton\" + 0.015*\"bull\" + 0.014*\"seizoen\" + 0.013*\"ferrari\" + 0.013*\"ricciardo\"'),\n",
       " (19,\n",
       "  '0.030*\"schiphol\" + 0.020*\"vluchten\" + 0.020*\"vliegtuig\" + 0.016*\"luchthaven\" + 0.015*\"toestel\" + 0.015*\"klm\" + 0.015*\"passagiers\" + 0.013*\"vliegen\" + 0.012*\"piloten\" + 0.012*\"vliegveld\"'),\n",
       " (5,\n",
       "  '0.034*\"defensie\" + 0.017*\"militairen\" + 0.015*\"india\" + 0.014*\"dieren\" + 0.012*\"dier\" + 0.011*\"militaire\" + 0.010*\"kroon\" + 0.009*\"indiase\" + 0.009*\"wolf\" + 0.008*\"oefening\"'),\n",
       " (9,\n",
       "  '0.021*\"holleeder\" + 0.012*\"criminele\" + 0.011*\"criminelen\" + 0.011*\"willem\" + 0.010*\"broer\" + 0.010*\"astrid\" + 0.008*\"justitie\" + 0.007*\"politie\" + 0.007*\"drugs\" + 0.007*\"el\"'),\n",
       " (51,\n",
       "  '0.035*\"school\" + 0.035*\"studenten\" + 0.027*\"leerlingen\" + 0.025*\"scholen\" + 0.024*\"onderwijs\" + 0.013*\"kinderen\" + 0.012*\"leraren\" + 0.011*\"universiteit\" + 0.010*\"jongeren\" + 0.010*\"ouders\"'),\n",
       " (33,\n",
       "  '0.029*\"mensen\" + 0.011*\"heel\" + 0.010*\"alleen\" + 0.009*\"maken\" + 0.009*\"zien\" + 0.008*\"bijvoorbeeld\" + 0.008*\"gaan\" + 0.007*\"willen\" + 0.007*\"gaat\" + 0.007*\"vinden\"'),\n",
       " (16,\n",
       "  '0.020*\"zei\" + 0.014*\"ging\" + 0.014*\"kwam\" + 0.012*\"wilde\" + 0.009*\"kreeg\" + 0.009*\"af\" + 0.007*\"zag\" + 0.007*\"stond\" + 0.007*\"terug\" + 0.007*\"nooit\"'),\n",
       " (32,\n",
       "  '0.026*\"goed\" + 0.025*\"heel\" + 0.012*\"gaat\" + 0.012*\"echt\" + 0.009*\"gaan\" + 0.009*\"weer\" + 0.009*\"denk\" + 0.009*\"weet\" + 0.009*\"zien\" + 0.008*\"goede\"'),\n",
       " (35,\n",
       "  '0.028*\"eerste\" + 0.026*\"twee\" + 0.025*\"tweede\" + 0.021*\"keer\" + 0.017*\"drie\" + 0.015*\"plaats\" + 0.015*\"kwam\" + 0.015*\"derde\" + 0.014*\"laatste\" + 0.014*\"ging\"'),\n",
       " (58,\n",
       "  '0.016*\"gaan\" + 0.016*\"gaat\" + 0.014*\"nieuwe\" + 0.013*\"jaar\" + 0.012*\"twee\" + 0.010*\"tijd\" + 0.010*\"komen\" + 0.009*\"maken\" + 0.009*\"komt\" + 0.009*\"mogelijk\"')]"
      ]
     },
     "execution_count": 124,
     "metadata": {},
     "output_type": "execute_result"
    }
   ],
   "source": [
    "# Let's use 60 topics and optimize_interval = x for final Topic model\n",
    "ldamallet = gensim.models.wrappers.LdaMallet(mallet_path \n",
    "                                             , corpus=doc_term_matrix\n",
    "                                             , num_topics=60\n",
    "                                             , optimize_interval=100\n",
    "                                             , id2word=dictionary)\n",
    "\n",
    "ldamallet.show_topics()"
   ]
  },
  {
   "cell_type": "code",
   "execution_count": 125,
   "metadata": {},
   "outputs": [
    {
     "name": "stdout",
     "output_type": "stream",
     "text": [
      "X_train set has 21194 rows and 60 columns and looks like\n"
     ]
    },
    {
     "data": {
      "text/html": [
       "<div>\n",
       "<style scoped>\n",
       "    .dataframe tbody tr th:only-of-type {\n",
       "        vertical-align: middle;\n",
       "    }\n",
       "\n",
       "    .dataframe tbody tr th {\n",
       "        vertical-align: top;\n",
       "    }\n",
       "\n",
       "    .dataframe thead th {\n",
       "        text-align: right;\n",
       "    }\n",
       "</style>\n",
       "<table border=\"1\" class=\"dataframe\">\n",
       "  <thead>\n",
       "    <tr style=\"text-align: right;\">\n",
       "      <th></th>\n",
       "      <th>0</th>\n",
       "      <th>1</th>\n",
       "      <th>2</th>\n",
       "      <th>3</th>\n",
       "      <th>4</th>\n",
       "      <th>5</th>\n",
       "      <th>6</th>\n",
       "      <th>7</th>\n",
       "      <th>8</th>\n",
       "      <th>9</th>\n",
       "      <th>...</th>\n",
       "      <th>50</th>\n",
       "      <th>51</th>\n",
       "      <th>52</th>\n",
       "      <th>53</th>\n",
       "      <th>54</th>\n",
       "      <th>55</th>\n",
       "      <th>56</th>\n",
       "      <th>57</th>\n",
       "      <th>58</th>\n",
       "      <th>59</th>\n",
       "    </tr>\n",
       "  </thead>\n",
       "  <tbody>\n",
       "    <tr>\n",
       "      <th>0</th>\n",
       "      <td>0.000500</td>\n",
       "      <td>0.004828</td>\n",
       "      <td>0.000348</td>\n",
       "      <td>0.000282</td>\n",
       "      <td>0.000248</td>\n",
       "      <td>0.000185</td>\n",
       "      <td>0.003520</td>\n",
       "      <td>0.000516</td>\n",
       "      <td>0.002272</td>\n",
       "      <td>0.000190</td>\n",
       "      <td>...</td>\n",
       "      <td>0.000286</td>\n",
       "      <td>0.000196</td>\n",
       "      <td>0.000243</td>\n",
       "      <td>0.000271</td>\n",
       "      <td>0.001342</td>\n",
       "      <td>0.532116</td>\n",
       "      <td>0.000431</td>\n",
       "      <td>0.000281</td>\n",
       "      <td>0.117436</td>\n",
       "      <td>0.000211</td>\n",
       "    </tr>\n",
       "    <tr>\n",
       "      <th>1</th>\n",
       "      <td>0.000535</td>\n",
       "      <td>0.000654</td>\n",
       "      <td>0.000373</td>\n",
       "      <td>0.001431</td>\n",
       "      <td>0.001395</td>\n",
       "      <td>0.000198</td>\n",
       "      <td>0.002641</td>\n",
       "      <td>0.000553</td>\n",
       "      <td>0.001304</td>\n",
       "      <td>0.000203</td>\n",
       "      <td>...</td>\n",
       "      <td>0.000306</td>\n",
       "      <td>0.000210</td>\n",
       "      <td>0.000261</td>\n",
       "      <td>0.002549</td>\n",
       "      <td>0.000308</td>\n",
       "      <td>0.001875</td>\n",
       "      <td>0.000461</td>\n",
       "      <td>0.000301</td>\n",
       "      <td>0.007202</td>\n",
       "      <td>0.002485</td>\n",
       "    </tr>\n",
       "    <tr>\n",
       "      <th>2</th>\n",
       "      <td>0.000357</td>\n",
       "      <td>0.000437</td>\n",
       "      <td>0.184959</td>\n",
       "      <td>0.000201</td>\n",
       "      <td>0.000178</td>\n",
       "      <td>0.000132</td>\n",
       "      <td>0.232462</td>\n",
       "      <td>0.001123</td>\n",
       "      <td>0.001625</td>\n",
       "      <td>0.000135</td>\n",
       "      <td>...</td>\n",
       "      <td>0.000204</td>\n",
       "      <td>0.000140</td>\n",
       "      <td>0.000174</td>\n",
       "      <td>0.000194</td>\n",
       "      <td>0.000206</td>\n",
       "      <td>0.002006</td>\n",
       "      <td>0.000308</td>\n",
       "      <td>0.000955</td>\n",
       "      <td>0.013854</td>\n",
       "      <td>0.000151</td>\n",
       "    </tr>\n",
       "    <tr>\n",
       "      <th>3</th>\n",
       "      <td>0.000445</td>\n",
       "      <td>0.001482</td>\n",
       "      <td>0.000310</td>\n",
       "      <td>0.000251</td>\n",
       "      <td>0.000221</td>\n",
       "      <td>0.000165</td>\n",
       "      <td>0.002194</td>\n",
       "      <td>0.000460</td>\n",
       "      <td>0.001084</td>\n",
       "      <td>0.000169</td>\n",
       "      <td>...</td>\n",
       "      <td>0.000255</td>\n",
       "      <td>0.000175</td>\n",
       "      <td>0.189816</td>\n",
       "      <td>0.000241</td>\n",
       "      <td>0.001195</td>\n",
       "      <td>0.000620</td>\n",
       "      <td>0.000383</td>\n",
       "      <td>0.000250</td>\n",
       "      <td>0.016310</td>\n",
       "      <td>0.000188</td>\n",
       "    </tr>\n",
       "    <tr>\n",
       "      <th>4</th>\n",
       "      <td>0.000334</td>\n",
       "      <td>0.000409</td>\n",
       "      <td>0.000233</td>\n",
       "      <td>0.000189</td>\n",
       "      <td>0.000166</td>\n",
       "      <td>0.000830</td>\n",
       "      <td>0.137911</td>\n",
       "      <td>0.000346</td>\n",
       "      <td>0.180143</td>\n",
       "      <td>0.000127</td>\n",
       "      <td>...</td>\n",
       "      <td>0.000191</td>\n",
       "      <td>0.000131</td>\n",
       "      <td>0.000869</td>\n",
       "      <td>0.000887</td>\n",
       "      <td>0.000192</td>\n",
       "      <td>0.001172</td>\n",
       "      <td>0.000288</td>\n",
       "      <td>0.000188</td>\n",
       "      <td>0.022152</td>\n",
       "      <td>0.000141</td>\n",
       "    </tr>\n",
       "  </tbody>\n",
       "</table>\n",
       "<p>5 rows × 60 columns</p>\n",
       "</div>"
      ],
      "text/plain": [
       "         0         1         2         3         4         5         6   \\\n",
       "0  0.000500  0.004828  0.000348  0.000282  0.000248  0.000185  0.003520   \n",
       "1  0.000535  0.000654  0.000373  0.001431  0.001395  0.000198  0.002641   \n",
       "2  0.000357  0.000437  0.184959  0.000201  0.000178  0.000132  0.232462   \n",
       "3  0.000445  0.001482  0.000310  0.000251  0.000221  0.000165  0.002194   \n",
       "4  0.000334  0.000409  0.000233  0.000189  0.000166  0.000830  0.137911   \n",
       "\n",
       "         7         8         9   ...        50        51        52        53  \\\n",
       "0  0.000516  0.002272  0.000190  ...  0.000286  0.000196  0.000243  0.000271   \n",
       "1  0.000553  0.001304  0.000203  ...  0.000306  0.000210  0.000261  0.002549   \n",
       "2  0.001123  0.001625  0.000135  ...  0.000204  0.000140  0.000174  0.000194   \n",
       "3  0.000460  0.001084  0.000169  ...  0.000255  0.000175  0.189816  0.000241   \n",
       "4  0.000346  0.180143  0.000127  ...  0.000191  0.000131  0.000869  0.000887   \n",
       "\n",
       "         54        55        56        57        58        59  \n",
       "0  0.001342  0.532116  0.000431  0.000281  0.117436  0.000211  \n",
       "1  0.000308  0.001875  0.000461  0.000301  0.007202  0.002485  \n",
       "2  0.000206  0.002006  0.000308  0.000955  0.013854  0.000151  \n",
       "3  0.001195  0.000620  0.000383  0.000250  0.016310  0.000188  \n",
       "4  0.000192  0.001172  0.000288  0.000188  0.022152  0.000141  \n",
       "\n",
       "[5 rows x 60 columns]"
      ]
     },
     "execution_count": 125,
     "metadata": {},
     "output_type": "execute_result"
    }
   ],
   "source": [
    "# get probabilities per topic for train set\n",
    "X_train_f4 = pd.DataFrame(ldamallet[doc_term_matrix])\n",
    "X_train_f4 = X_train_f4.applymap(lambda x: x[1:][0])\n",
    "print('X_train set has {} rows and {} columns and looks like'.format(X_train_f4.shape[0]\n",
    "                                                                     , X_train_f4.shape[1]))\n",
    "X_train_f4.head()"
   ]
  },
  {
   "cell_type": "code",
   "execution_count": 126,
   "metadata": {},
   "outputs": [
    {
     "name": "stdout",
     "output_type": "stream",
     "text": [
      "X_test set has 7065 rows and 60 columns\n"
     ]
    }
   ],
   "source": [
    "# Get probabilities per topic for test set\n",
    "X_test_tokens = [word_tokenize(doc) for doc in X_test] \n",
    "doc_term_matrix_test = [dictionary.doc2bow(doc) for doc in list(X_test_tokens)]\n",
    "\n",
    "# create feature test set\n",
    "X_test_f4 = pd.DataFrame(ldamallet[doc_term_matrix_test])\n",
    "X_test_f4 = X_test_f4.applymap(lambda x: x[1:][0])\n",
    "print('X_test set has {} rows and {} columns'.format(X_test_f4.shape[0], X_test_f4.shape[1]))"
   ]
  },
  {
   "cell_type": "code",
   "execution_count": null,
   "metadata": {},
   "outputs": [],
   "source": [
    "# Visualize the topics\n",
    "\n",
    "# run optionally, since there are 50 topics that are purely functioning as features,\n",
    "# the contents of the topics might not be that interesting.\n",
    "\n",
    "from_mallet = gensim.models.wrappers.ldamallet.malletmodel2ldamodel(ldamallet)\n",
    "vis = pyLDAvis.gensim.prepare(from_mallet, doc_term_matrix, dictionary)\n",
    "#pyLDAvis.display(vis)"
   ]
  },
  {
   "cell_type": "code",
   "execution_count": 105,
   "metadata": {},
   "outputs": [],
   "source": [
    "feature_dct['Gensim Mallet LDA'] = [X_train_f4, X_test_f4]"
   ]
  },
  {
   "cell_type": "markdown",
   "metadata": {},
   "source": [
    "### 3.5 Doc2Vec"
   ]
  },
  {
   "cell_type": "markdown",
   "metadata": {},
   "source": [
    "__About the Paragraph Vector__<br>\n",
    "The approach used in section 2.3.2 (Word Embedding) of averaging each Document's words' word-vectors results in a document-vector is neat. However, Le and Mikolov (2014) introduced the Paragraph Vector, which is a more sophisticated method that generally outperforms simple averaging of word vectors. Generally, one can think of a document having another world-like vector that is specific to the document. This is called the Paragraph Vector.\n",
    "\n",
    "There are two types of Paragraph Vectors: DBOW and DM. Distributed Bag of Words (DBOW) in Doc2Vec is similar to Word2Vec's Skip-Gram (SG). Also, Distributed Memory (DM) in Doc2Vec is similar to Word2Vec's ontinuous Bag of Words (CBOW). For each method in Doc2Vec, one model is build, whereafter both models are combined, which generally yields better results.<br><br>\n",
    "\n",
    "__Distributed Bag of Words (PV-DBOW)__<br>\n",
    "The Paragraph vectors are based on the task of predicting a target word just from the full document's doc-vector. It is a task of predicting a probability distribution of words in a document given a randomly-sampled word from the document.<br><br>\n",
    "\n",
    "__Distributed Memory (PV-DM)__<br>\n",
    "The Paragraph vectors are based on the task of predicting a center word based an average of both context word-vectors and the full document's doc-vector. DM remembers what is missing in the current context — or as the topic of the document. While the word vectors represent the concept of a word, the document vector intends to represent the concept of a document. \n",
    "\n",
    "Notice the words 'Paragraph' and 'Document' are used interchangeably here."
   ]
  },
  {
   "cell_type": "code",
   "execution_count": 18,
   "metadata": {},
   "outputs": [],
   "source": [
    "from tqdm import tqdm\n",
    "tqdm.pandas(desc=\"progress-bar\")\n",
    "from gensim.models import Doc2Vec\n",
    "from sklearn import utils\n",
    "import gensim\n",
    "from gensim.models.doc2vec import TaggedDocument\n",
    "import re\n",
    "import nltk\n",
    "from gensim.test.test_doc2vec import ConcatenatedDoc2Vec\n",
    "import multiprocessing\n",
    "cores = multiprocessing.cpu_count()"
   ]
  },
  {
   "cell_type": "code",
   "execution_count": 107,
   "metadata": {},
   "outputs": [],
   "source": [
    "# first, tag documents with its category (target)\n",
    "def tag_documents(X, y):\n",
    "    # recreate dataframe with Text and category label \n",
    "    X_ser = X.reset_index(drop=True)\n",
    "    X_d2v = pd.concat([X_ser, pd.Series(y)], axis=1)\n",
    "    X_d2v.columns = ['Text', 'Category']\n",
    "    \n",
    "    # tag each document with its label\n",
    "    tagged_documents = X_d2v.apply(lambda x: TaggedDocument(\n",
    "                                    words=word_tokenize(x['Text'])\n",
    "                                    , tags=[x.Category])\n",
    "                                    , axis=1)\n",
    "    \n",
    "    return tagged_documents\n",
    "\n",
    "train_tagged = tag_documents(X_train, y_train)\n",
    "test_tagged = tag_documents(X_test, y_test)"
   ]
  },
  {
   "cell_type": "code",
   "execution_count": 108,
   "metadata": {},
   "outputs": [
    {
     "data": {
      "text/plain": [
       "TaggedDocument(words=['kiki', 'bertens', 'finale', 'bereikt', 'hardcourttoernooi', 'seoul', 'wateringse', 'zuid', 'koreaanse', 'hoofdstad', 'tweede', 'geplaatst', 'knokte', 'foutenfestival', 'stuks', 'totaal', 'langs', 'maria', 'sakkari', 'bertens', 'derde', 'geplaatste', 'griekse', 'vier', 'eerdere', 'duels', 'twee', 'keer', 'verslagen', 'leverde', 'drie', 'eerste', 'vier', 'opslagbeurten', 'won', 'laatste', 'drie', 'games', 'eerste', 'set', 'tweede', 'bedrijf', 'ging', 'soepel', 'landgenote', 'sakkari', 'speelde', 'veelal', 'slordiger', 'lukte', 'bertens', 'partij', 'serveren', 'game', 'brak', 'griekse', 'zevende', 'keer', 'vierde', 'finale', 'feit', 'bertens', 'seoul', 'derde', 'toernooi', 'tennisjaar', 'winnen', 'eerder', 'sterkste', 'cincinnati', 'charleston', 'madrid', 'verloor', 'finale', 'ajla', 'tomljanovic', 'roet', 'eten', 'gooien', 'australische', 'tegenstandster', 'finale', 'bertens', 'hoopt', 'komende', 'weken', 'azi', 'deelname', 'af', 'dwingen', 'wta', 'finals', 'grijpt', 'zoals', 'voorstaat', 'naast', 'achtste', 'laatste', 'ticket', 'hijgt', 'karol', 'pl', 'skov', 'finale', 'tokio', 'staat', 'nek', 'wta', 'finals', 'beginnen', 'oktober', 'bertens', 'speelt', 'seoul', 'sowieso', 'toernooien', 'wuhan', 'peking', 'linz', 'genoeg', 'punten', 'halen', 'kwalificeren', 'week', 'finals', 'mee', 'moskou', 'luxemburg'], tags=[5])"
      ]
     },
     "execution_count": 108,
     "metadata": {},
     "output_type": "execute_result"
    }
   ],
   "source": [
    "# example of tagged document with text and with tagged Category\n",
    "train_tagged.values[30]"
   ]
  },
  {
   "cell_type": "markdown",
   "metadata": {},
   "source": [
    "#### 3.6.1 DBOW"
   ]
  },
  {
   "cell_type": "code",
   "execution_count": 109,
   "metadata": {},
   "outputs": [
    {
     "name": "stdout",
     "output_type": "stream",
     "text": [
      ">>instantiating model..<<\n",
      ">>building vocabulary..<<\n",
      ">>training model..<<\n",
      ">>finished building Doc2Vec model<<\n"
     ]
    }
   ],
   "source": [
    "def build_d2v(train_tagged=train_tagged, dm=0, vector_size=50, negative=0, hs=1, seed = 77\n",
    "             ,min_count=1, min_alpha=0.0001, alpha = 0.065, epochs = 30, sample=0, workers=cores):\n",
    "    # default is dbow (dm=0), dm=1 equals Distributed Memory\n",
    "\n",
    "    print(\">>instantiating model..<<\")\n",
    "    model = Doc2Vec(dm=dm, vector_size=vector_size, negative=negative, hs=hs\n",
    "                     , min_count=min_count, sample = sample, workers=workers\n",
    "                    ,epochs = epochs, min_alpha = min_alpha, seed = seed, alpha = alpha) \n",
    "    #alpha = 0.025, min_alpha = 0.025, dm_mean=1, vector_size=300, window=10, alpha\n",
    "    \n",
    "    print(\">>building vocabulary..<<\")\n",
    "    model.build_vocab([x for x in train_tagged.values])\n",
    "    \n",
    "    print(\">>training model..<<\")\n",
    "    model.train(utils.shuffle([x for x in train_tagged.values], random_state = seed)\n",
    "                 , total_examples=len(train_tagged.values), epochs=model.epochs)\n",
    "    \n",
    "    print(\">>finished building Doc2Vec model<<\")\n",
    "    return model\n",
    "\n",
    "model_dbow = build_d2v()\n",
    "\n",
    "## Building feature vector for classifier\n",
    "def vec_for_learning(model, tagged_docs):\n",
    "    sents = tagged_docs.values\n",
    "    targets, regressors = zip(*[(doc.tags[0], model.infer_vector(doc.words)) for doc in sents])\n",
    "    return targets, regressors\n",
    "\n",
    "y_train_d2v, X_train_d2v = vec_for_learning(model_dbow, train_tagged)\n",
    "y_test_d2v, X_test_d2v = vec_for_learning(model_dbow, test_tagged)"
   ]
  },
  {
   "cell_type": "markdown",
   "metadata": {},
   "source": [
    "#### 3.6.2 DM"
   ]
  },
  {
   "cell_type": "code",
   "execution_count": 110,
   "metadata": {},
   "outputs": [
    {
     "name": "stdout",
     "output_type": "stream",
     "text": [
      ">>instantiating model..<<\n",
      ">>building vocabulary..<<\n",
      ">>training model..<<\n",
      ">>finished building Doc2Vec model<<\n"
     ]
    }
   ],
   "source": [
    "# Distibuted memory variant\n",
    "model_dm = build_d2v(dm=1) #dm_mean=1,alpha=0.065,window=10,\n",
    "\n",
    "y_train_d2v, X_train_d2v = vec_for_learning(model_dm, train_tagged)\n",
    "y_test_d2v, X_test_d2v = vec_for_learning(model_dm, test_tagged)"
   ]
  },
  {
   "cell_type": "markdown",
   "metadata": {},
   "source": [
    "#### 3.6.3 Combining DBOW and DM"
   ]
  },
  {
   "cell_type": "markdown",
   "metadata": {},
   "source": [
    "Sometimes combining a paragraph vector from Distributed Bag of Words (DBOW) and Distributed Memory (DM) improves performance. We will follow, pairing the models together for evaluation."
   ]
  },
  {
   "cell_type": "code",
   "execution_count": 111,
   "metadata": {},
   "outputs": [],
   "source": [
    "# free up RAM\n",
    "model_dbow.delete_temporary_training_data(keep_doctags_vectors=True, keep_inference=True)\n",
    "model_dm.delete_temporary_training_data(keep_doctags_vectors=True, keep_inference=True)\n",
    "\n",
    "# combine models\n",
    "new_model = ConcatenatedDoc2Vec([model_dbow, model_dm])"
   ]
  },
  {
   "cell_type": "code",
   "execution_count": 112,
   "metadata": {},
   "outputs": [
    {
     "name": "stdout",
     "output_type": "stream",
     "text": [
      "Resulting X_train dataframe has 100 columns and 21194 rows\n"
     ]
    },
    {
     "data": {
      "text/html": [
       "<div>\n",
       "<style scoped>\n",
       "    .dataframe tbody tr th:only-of-type {\n",
       "        vertical-align: middle;\n",
       "    }\n",
       "\n",
       "    .dataframe tbody tr th {\n",
       "        vertical-align: top;\n",
       "    }\n",
       "\n",
       "    .dataframe thead th {\n",
       "        text-align: right;\n",
       "    }\n",
       "</style>\n",
       "<table border=\"1\" class=\"dataframe\">\n",
       "  <thead>\n",
       "    <tr style=\"text-align: right;\">\n",
       "      <th></th>\n",
       "      <th>0</th>\n",
       "      <th>1</th>\n",
       "      <th>2</th>\n",
       "      <th>3</th>\n",
       "      <th>4</th>\n",
       "      <th>5</th>\n",
       "      <th>6</th>\n",
       "      <th>7</th>\n",
       "      <th>8</th>\n",
       "      <th>9</th>\n",
       "      <th>...</th>\n",
       "      <th>90</th>\n",
       "      <th>91</th>\n",
       "      <th>92</th>\n",
       "      <th>93</th>\n",
       "      <th>94</th>\n",
       "      <th>95</th>\n",
       "      <th>96</th>\n",
       "      <th>97</th>\n",
       "      <th>98</th>\n",
       "      <th>99</th>\n",
       "    </tr>\n",
       "  </thead>\n",
       "  <tbody>\n",
       "    <tr>\n",
       "      <th>0</th>\n",
       "      <td>-2.073534</td>\n",
       "      <td>-1.396484</td>\n",
       "      <td>-1.107511</td>\n",
       "      <td>0.329510</td>\n",
       "      <td>1.610590</td>\n",
       "      <td>0.607696</td>\n",
       "      <td>0.556523</td>\n",
       "      <td>-0.710920</td>\n",
       "      <td>0.046802</td>\n",
       "      <td>-0.961468</td>\n",
       "      <td>...</td>\n",
       "      <td>-0.917453</td>\n",
       "      <td>1.260043</td>\n",
       "      <td>0.008999</td>\n",
       "      <td>-0.123987</td>\n",
       "      <td>1.266527</td>\n",
       "      <td>2.698158</td>\n",
       "      <td>1.544585</td>\n",
       "      <td>-1.836318</td>\n",
       "      <td>-3.029305</td>\n",
       "      <td>-0.886853</td>\n",
       "    </tr>\n",
       "    <tr>\n",
       "      <th>1</th>\n",
       "      <td>-0.624369</td>\n",
       "      <td>-0.752067</td>\n",
       "      <td>1.155481</td>\n",
       "      <td>-0.393155</td>\n",
       "      <td>-1.084836</td>\n",
       "      <td>-0.210337</td>\n",
       "      <td>-1.023318</td>\n",
       "      <td>-0.466461</td>\n",
       "      <td>-0.998137</td>\n",
       "      <td>0.057015</td>\n",
       "      <td>...</td>\n",
       "      <td>-1.050536</td>\n",
       "      <td>0.852714</td>\n",
       "      <td>1.373693</td>\n",
       "      <td>2.420187</td>\n",
       "      <td>-0.315025</td>\n",
       "      <td>3.338389</td>\n",
       "      <td>1.338996</td>\n",
       "      <td>0.948372</td>\n",
       "      <td>3.471061</td>\n",
       "      <td>1.660041</td>\n",
       "    </tr>\n",
       "    <tr>\n",
       "      <th>2</th>\n",
       "      <td>-0.741350</td>\n",
       "      <td>1.584534</td>\n",
       "      <td>-0.436112</td>\n",
       "      <td>0.876154</td>\n",
       "      <td>0.732825</td>\n",
       "      <td>0.266201</td>\n",
       "      <td>-0.412043</td>\n",
       "      <td>-0.371027</td>\n",
       "      <td>0.360098</td>\n",
       "      <td>0.020720</td>\n",
       "      <td>...</td>\n",
       "      <td>0.991118</td>\n",
       "      <td>-1.010242</td>\n",
       "      <td>-0.693474</td>\n",
       "      <td>-0.559834</td>\n",
       "      <td>-0.156373</td>\n",
       "      <td>0.358388</td>\n",
       "      <td>0.661286</td>\n",
       "      <td>-0.986505</td>\n",
       "      <td>0.876554</td>\n",
       "      <td>0.131441</td>\n",
       "    </tr>\n",
       "    <tr>\n",
       "      <th>3</th>\n",
       "      <td>0.374422</td>\n",
       "      <td>0.224575</td>\n",
       "      <td>-0.597916</td>\n",
       "      <td>1.045511</td>\n",
       "      <td>-0.494429</td>\n",
       "      <td>-0.261761</td>\n",
       "      <td>-0.267305</td>\n",
       "      <td>0.079838</td>\n",
       "      <td>0.002930</td>\n",
       "      <td>-1.342130</td>\n",
       "      <td>...</td>\n",
       "      <td>-0.985702</td>\n",
       "      <td>0.373113</td>\n",
       "      <td>-0.271825</td>\n",
       "      <td>0.594301</td>\n",
       "      <td>1.025216</td>\n",
       "      <td>-0.302048</td>\n",
       "      <td>1.537123</td>\n",
       "      <td>-0.552988</td>\n",
       "      <td>-1.305961</td>\n",
       "      <td>0.946120</td>\n",
       "    </tr>\n",
       "    <tr>\n",
       "      <th>4</th>\n",
       "      <td>-0.729131</td>\n",
       "      <td>-0.066831</td>\n",
       "      <td>-1.388950</td>\n",
       "      <td>-0.128210</td>\n",
       "      <td>-0.707178</td>\n",
       "      <td>0.638431</td>\n",
       "      <td>-0.471189</td>\n",
       "      <td>-0.023343</td>\n",
       "      <td>-0.506728</td>\n",
       "      <td>-0.215676</td>\n",
       "      <td>...</td>\n",
       "      <td>3.342274</td>\n",
       "      <td>0.367762</td>\n",
       "      <td>-1.522566</td>\n",
       "      <td>0.352244</td>\n",
       "      <td>-1.989156</td>\n",
       "      <td>0.489866</td>\n",
       "      <td>0.622809</td>\n",
       "      <td>1.381885</td>\n",
       "      <td>-1.054426</td>\n",
       "      <td>0.164902</td>\n",
       "    </tr>\n",
       "  </tbody>\n",
       "</table>\n",
       "<p>5 rows × 100 columns</p>\n",
       "</div>"
      ],
      "text/plain": [
       "         0         1         2         3         4         5         6   \\\n",
       "0 -2.073534 -1.396484 -1.107511  0.329510  1.610590  0.607696  0.556523   \n",
       "1 -0.624369 -0.752067  1.155481 -0.393155 -1.084836 -0.210337 -1.023318   \n",
       "2 -0.741350  1.584534 -0.436112  0.876154  0.732825  0.266201 -0.412043   \n",
       "3  0.374422  0.224575 -0.597916  1.045511 -0.494429 -0.261761 -0.267305   \n",
       "4 -0.729131 -0.066831 -1.388950 -0.128210 -0.707178  0.638431 -0.471189   \n",
       "\n",
       "         7         8         9   ...        90        91        92        93  \\\n",
       "0 -0.710920  0.046802 -0.961468  ... -0.917453  1.260043  0.008999 -0.123987   \n",
       "1 -0.466461 -0.998137  0.057015  ... -1.050536  0.852714  1.373693  2.420187   \n",
       "2 -0.371027  0.360098  0.020720  ...  0.991118 -1.010242 -0.693474 -0.559834   \n",
       "3  0.079838  0.002930 -1.342130  ... -0.985702  0.373113 -0.271825  0.594301   \n",
       "4 -0.023343 -0.506728 -0.215676  ...  3.342274  0.367762 -1.522566  0.352244   \n",
       "\n",
       "         94        95        96        97        98        99  \n",
       "0  1.266527  2.698158  1.544585 -1.836318 -3.029305 -0.886853  \n",
       "1 -0.315025  3.338389  1.338996  0.948372  3.471061  1.660041  \n",
       "2 -0.156373  0.358388  0.661286 -0.986505  0.876554  0.131441  \n",
       "3  1.025216 -0.302048  1.537123 -0.552988 -1.305961  0.946120  \n",
       "4 -1.989156  0.489866  0.622809  1.381885 -1.054426  0.164902  \n",
       "\n",
       "[5 rows x 100 columns]"
      ]
     },
     "execution_count": 112,
     "metadata": {},
     "output_type": "execute_result"
    }
   ],
   "source": [
    "y_train_d2v, X_train_d2v = vec_for_learning(new_model, train_tagged)\n",
    "y_test_d2v, X_test_d2v = vec_for_learning(new_model, test_tagged)\n",
    "\n",
    "X_train_f5 = pd.DataFrame(np.array(X_train_d2v))\n",
    "X_test_f5 = pd.DataFrame(np.array(X_test_d2v))\n",
    "\n",
    "print('Resulting X_train dataframe has {} columns and {} rows'.format(X_train_f5.shape[1]\n",
    "                                                                      , X_train_f5.shape[0]))\n",
    "X_train_f5.head()"
   ]
  },
  {
   "cell_type": "code",
   "execution_count": 113,
   "metadata": {},
   "outputs": [],
   "source": [
    "feature_dct['Doc2Vec'] = [X_train_f5, X_test_f5]"
   ]
  },
  {
   "cell_type": "markdown",
   "metadata": {},
   "source": [
    "## 4. Model Building"
   ]
  },
  {
   "cell_type": "markdown",
   "metadata": {},
   "source": [
    "Build different models on different feature sets. To evaluate these models, the `F1 macro` score is used, since we would like a sense of how the classifiers perform over all categories that are to be predicted."
   ]
  },
  {
   "cell_type": "code",
   "execution_count": 18,
   "metadata": {},
   "outputs": [],
   "source": [
    "from sklearn.metrics import f1_score\n",
    "from sklearn.svm import LinearSVC\n",
    "from sklearn.linear_model import SGDClassifier\n",
    "from sklearn.linear_model import LogisticRegression\n",
    "from sklearn.neural_network import MLPClassifier\n",
    "from sklearn.discriminant_analysis import LinearDiscriminantAnalysis\n",
    "from sklearn.svm import SVC\n",
    "from sklearn.model_selection import GridSearchCV\n",
    "from keras import layers, models, optimizers\n",
    "from sklearn.metrics import accuracy_score\n",
    "import logging\n",
    "from sklearn.preprocessing import StandardScaler"
   ]
  },
  {
   "cell_type": "code",
   "execution_count": 115,
   "metadata": {},
   "outputs": [],
   "source": [
    "# define F1 scorer function\n",
    "def print_scores(clf, X_train, y_train, X_test, y_test, is_neural_net=False, verbose = True):\n",
    "    clf.fit(X_train, y_train)\n",
    "    y_pred = clf.predict(X_test)\n",
    "    if verbose == True:\n",
    "        print('F1 macro score: {:3f}'.format(f1_score(y_test, y_pred, average=\"macro\"))) \n",
    "    return f1_score(y_test, y_pred, average=\"macro\")*100 "
   ]
  },
  {
   "cell_type": "code",
   "execution_count": 127,
   "metadata": {
    "scrolled": true
   },
   "outputs": [
    {
     "name": "stdout",
     "output_type": "stream",
     "text": [
      "Feature dictionary contains the following feature sets: \n",
      "\n",
      "['Bag of Words', 'TF-IDF', 'Averaged word vector', 'Gensim Mallet LDA', 'Doc2Vec']\n"
     ]
    }
   ],
   "source": [
    "print('Feature dictionary contains the following feature sets: \\n')\n",
    "print(list(feature_dct.keys()))"
   ]
  },
  {
   "cell_type": "code",
   "execution_count": 128,
   "metadata": {},
   "outputs": [
    {
     "name": "stdout",
     "output_type": "stream",
     "text": [
      "['Bag of Words scaled', 'TF-IDF scaled', 'Averaged word vector scaled', 'Gensim Mallet LDA scaled', 'Doc2Vec scaled']\n"
     ]
    }
   ],
   "source": [
    "# scale\n",
    "sc = StandardScaler()\n",
    "feature_dct_sc = {}\n",
    "\n",
    "for f in feature_dct.keys():\n",
    "    feature_dct_sc[str(f)+' scaled'] = [sc.fit_transform(feature_dct[str(f)][0])\n",
    "                              , sc.transform(feature_dct[str(f)][1])]\n",
    "    \n",
    "print(list(feature_dct_sc.keys()))"
   ]
  },
  {
   "cell_type": "code",
   "execution_count": 129,
   "metadata": {},
   "outputs": [
    {
     "name": "stderr",
     "output_type": "stream",
     "text": [
      "\n",
      "\n",
      "\n",
      "\n",
      "\n",
      "  0%|          | 0/5 [00:00<?, ?it/s]\u001b[A\u001b[A\u001b[A\u001b[A\u001b[A"
     ]
    },
    {
     "name": "stdout",
     "output_type": "stream",
     "text": [
      "LDA\n",
      "Stochastic Gradient Descent (SGD)\n",
      "SVC C=1 balanced\n",
      "SVC C=10 balanced\n",
      "SVC C=1\n",
      "SVC C=10\n",
      "Logistic Regression C=0.1\n",
      "Logistic Regression C=1\n",
      "Logistic Regression C=10\n",
      "MultiLayerPerceptron\n"
     ]
    },
    {
     "name": "stderr",
     "output_type": "stream",
     "text": [
      "\n",
      "\n",
      "\n",
      "\n",
      "\n",
      " 20%|██        | 1/5 [3:02:52<12:11:31, 10972.85s/it]\u001b[A\u001b[A\u001b[A\u001b[A\u001b[A"
     ]
    },
    {
     "name": "stdout",
     "output_type": "stream",
     "text": [
      "LDA\n",
      "Stochastic Gradient Descent (SGD)\n",
      "SVC C=1 balanced\n",
      "SVC C=10 balanced\n",
      "SVC C=1\n",
      "SVC C=10\n",
      "Logistic Regression C=0.1\n",
      "Logistic Regression C=1\n",
      "Logistic Regression C=10\n",
      "MultiLayerPerceptron\n"
     ]
    },
    {
     "name": "stderr",
     "output_type": "stream",
     "text": [
      "\n",
      "\n",
      "\n",
      "\n",
      "\n",
      " 40%|████      | 2/5 [4:38:24<7:50:01, 9400.57s/it]  \u001b[A\u001b[A\u001b[A\u001b[A\u001b[A"
     ]
    },
    {
     "name": "stdout",
     "output_type": "stream",
     "text": [
      "LDA\n",
      "Stochastic Gradient Descent (SGD)\n",
      "SVC C=1 balanced\n",
      "SVC C=10 balanced\n",
      "SVC C=1\n",
      "SVC C=10\n",
      "Logistic Regression C=0.1\n",
      "Logistic Regression C=1\n",
      "Logistic Regression C=10\n",
      "MultiLayerPerceptron\n"
     ]
    },
    {
     "name": "stderr",
     "output_type": "stream",
     "text": [
      "\n",
      "\n",
      "\n",
      "\n",
      "\n",
      " 60%|██████    | 3/5 [4:45:34<3:43:38, 6709.18s/it]\u001b[A\u001b[A\u001b[A\u001b[A\u001b[A"
     ]
    },
    {
     "name": "stdout",
     "output_type": "stream",
     "text": [
      "LDA\n",
      "Stochastic Gradient Descent (SGD)\n",
      "SVC C=1 balanced\n",
      "SVC C=10 balanced\n",
      "SVC C=1\n",
      "SVC C=10\n",
      "Logistic Regression C=0.1\n",
      "Logistic Regression C=1\n",
      "Logistic Regression C=10\n",
      "MultiLayerPerceptron\n"
     ]
    },
    {
     "name": "stderr",
     "output_type": "stream",
     "text": [
      "\n",
      "\n",
      "\n",
      "\n",
      "\n",
      " 80%|████████  | 4/5 [4:48:22<1:19:07, 4747.10s/it]\u001b[A\u001b[A\u001b[A\u001b[A\u001b[A"
     ]
    },
    {
     "name": "stdout",
     "output_type": "stream",
     "text": [
      "LDA\n",
      "Stochastic Gradient Descent (SGD)\n",
      "SVC C=1 balanced\n",
      "SVC C=10 balanced\n",
      "SVC C=1\n",
      "SVC C=10\n",
      "Logistic Regression C=0.1\n",
      "Logistic Regression C=1\n",
      "Logistic Regression C=10\n",
      "MultiLayerPerceptron\n"
     ]
    },
    {
     "name": "stderr",
     "output_type": "stream",
     "text": [
      "\n",
      "\n",
      "\n",
      "\n",
      "\n",
      "100%|██████████| 5/5 [4:50:34<00:00, 3362.29s/it]  \u001b[A\u001b[A\u001b[A\u001b[A\u001b[A"
     ]
    },
    {
     "data": {
      "text/html": [
       "<div>\n",
       "<style scoped>\n",
       "    .dataframe tbody tr th:only-of-type {\n",
       "        vertical-align: middle;\n",
       "    }\n",
       "\n",
       "    .dataframe tbody tr th {\n",
       "        vertical-align: top;\n",
       "    }\n",
       "\n",
       "    .dataframe thead th {\n",
       "        text-align: right;\n",
       "    }\n",
       "</style>\n",
       "<table border=\"1\" class=\"dataframe\">\n",
       "  <thead>\n",
       "    <tr style=\"text-align: right;\">\n",
       "      <th></th>\n",
       "      <th>Bag of Words scaled</th>\n",
       "      <th>TF-IDF scaled</th>\n",
       "      <th>Averaged word vector scaled</th>\n",
       "      <th>Gensim Mallet LDA scaled</th>\n",
       "      <th>Doc2Vec scaled</th>\n",
       "    </tr>\n",
       "  </thead>\n",
       "  <tbody>\n",
       "    <tr>\n",
       "      <th>LDA</th>\n",
       "      <td>78.228707</td>\n",
       "      <td>80.502732</td>\n",
       "      <td>75.845118</td>\n",
       "      <td>67.463082</td>\n",
       "      <td>74.594362</td>\n",
       "    </tr>\n",
       "    <tr>\n",
       "      <th>Stochastic Gradient Descent (SGD)</th>\n",
       "      <td>76.161375</td>\n",
       "      <td>75.925834</td>\n",
       "      <td>73.959810</td>\n",
       "      <td>65.812456</td>\n",
       "      <td>72.246205</td>\n",
       "    </tr>\n",
       "    <tr>\n",
       "      <th>SVC C=1 balanced</th>\n",
       "      <td>79.415722</td>\n",
       "      <td>80.775742</td>\n",
       "      <td>78.493505</td>\n",
       "      <td>68.049290</td>\n",
       "      <td>75.940809</td>\n",
       "    </tr>\n",
       "    <tr>\n",
       "      <th>SVC C=10 balanced</th>\n",
       "      <td>78.524907</td>\n",
       "      <td>79.672041</td>\n",
       "      <td>79.418732</td>\n",
       "      <td>70.723796</td>\n",
       "      <td>73.563735</td>\n",
       "    </tr>\n",
       "    <tr>\n",
       "      <th>SVC C=1</th>\n",
       "      <td>77.300164</td>\n",
       "      <td>79.019239</td>\n",
       "      <td>78.453166</td>\n",
       "      <td>70.782168</td>\n",
       "      <td>74.438547</td>\n",
       "    </tr>\n",
       "    <tr>\n",
       "      <th>SVC C=10</th>\n",
       "      <td>78.361886</td>\n",
       "      <td>79.663381</td>\n",
       "      <td>79.558380</td>\n",
       "      <td>72.161349</td>\n",
       "      <td>73.519990</td>\n",
       "    </tr>\n",
       "    <tr>\n",
       "      <th>Logistic Regression C=0.1</th>\n",
       "      <td>72.667087</td>\n",
       "      <td>71.608598</td>\n",
       "      <td>75.691497</td>\n",
       "      <td>65.887655</td>\n",
       "      <td>72.225121</td>\n",
       "    </tr>\n",
       "    <tr>\n",
       "      <th>Logistic Regression C=1</th>\n",
       "      <td>70.196303</td>\n",
       "      <td>69.225044</td>\n",
       "      <td>75.452535</td>\n",
       "      <td>66.218289</td>\n",
       "      <td>71.957036</td>\n",
       "    </tr>\n",
       "    <tr>\n",
       "      <th>Logistic Regression C=10</th>\n",
       "      <td>70.038136</td>\n",
       "      <td>69.140709</td>\n",
       "      <td>75.576348</td>\n",
       "      <td>66.146890</td>\n",
       "      <td>72.037497</td>\n",
       "    </tr>\n",
       "    <tr>\n",
       "      <th>MultiLayerPerceptron</th>\n",
       "      <td>77.898084</td>\n",
       "      <td>76.685372</td>\n",
       "      <td>75.406295</td>\n",
       "      <td>67.518203</td>\n",
       "      <td>71.131721</td>\n",
       "    </tr>\n",
       "  </tbody>\n",
       "</table>\n",
       "</div>"
      ],
      "text/plain": [
       "                                   Bag of Words scaled  TF-IDF scaled  \\\n",
       "LDA                                          78.228707      80.502732   \n",
       "Stochastic Gradient Descent (SGD)            76.161375      75.925834   \n",
       "SVC C=1 balanced                             79.415722      80.775742   \n",
       "SVC C=10 balanced                            78.524907      79.672041   \n",
       "SVC C=1                                      77.300164      79.019239   \n",
       "SVC C=10                                     78.361886      79.663381   \n",
       "Logistic Regression C=0.1                    72.667087      71.608598   \n",
       "Logistic Regression C=1                      70.196303      69.225044   \n",
       "Logistic Regression C=10                     70.038136      69.140709   \n",
       "MultiLayerPerceptron                         77.898084      76.685372   \n",
       "\n",
       "                                   Averaged word vector scaled  \\\n",
       "LDA                                                  75.845118   \n",
       "Stochastic Gradient Descent (SGD)                    73.959810   \n",
       "SVC C=1 balanced                                     78.493505   \n",
       "SVC C=10 balanced                                    79.418732   \n",
       "SVC C=1                                              78.453166   \n",
       "SVC C=10                                             79.558380   \n",
       "Logistic Regression C=0.1                            75.691497   \n",
       "Logistic Regression C=1                              75.452535   \n",
       "Logistic Regression C=10                             75.576348   \n",
       "MultiLayerPerceptron                                 75.406295   \n",
       "\n",
       "                                   Gensim Mallet LDA scaled  Doc2Vec scaled  \n",
       "LDA                                               67.463082       74.594362  \n",
       "Stochastic Gradient Descent (SGD)                 65.812456       72.246205  \n",
       "SVC C=1 balanced                                  68.049290       75.940809  \n",
       "SVC C=10 balanced                                 70.723796       73.563735  \n",
       "SVC C=1                                           70.782168       74.438547  \n",
       "SVC C=10                                          72.161349       73.519990  \n",
       "Logistic Regression C=0.1                         65.887655       72.225121  \n",
       "Logistic Regression C=1                           66.218289       71.957036  \n",
       "Logistic Regression C=10                          66.146890       72.037497  \n",
       "MultiLayerPerceptron                              67.518203       71.131721  "
      ]
     },
     "execution_count": 129,
     "metadata": {},
     "output_type": "execute_result"
    }
   ],
   "source": [
    "# Train all models on all feature sets\n",
    "models_ls = {\"LDA\": LinearDiscriminantAnalysis()\n",
    "            ,\"Stochastic Gradient Descent (SGD)\": SGDClassifier(loss = 'hinge'\n",
    "                                                                , penalty='elasticnet'\n",
    "                                                                , max_iter = np.ceil(10**6 / len(X_train))\n",
    "                                                                , class_weight='balanced'\n",
    "                                                                , random_state = 77)\n",
    "            , \"SVC C=1 balanced\": SVC(C=1, class_weight = 'balanced', random_state=77)\n",
    "            ,\"SVC C=10 balanced\": SVC(C=10, class_weight = 'balanced', random_state=77)\n",
    "            , \"SVC C=1\": SVC(C=1, random_state=77)\n",
    "            , \"SVC C=10\": SVC(C=10, random_state=77)  \n",
    "             ,\"Logistic Regression C=0.1\": LogisticRegression(C = 0.1, solver='lbfgs', random_state=77,  multi_class='multinomial') \n",
    "             ,\"Logistic Regression C=1\": LogisticRegression(C = 1, solver='lbfgs', random_state=77,  multi_class='multinomial') \n",
    "              ,\"Logistic Regression C=10\": LogisticRegression(C = 10, solver='lbfgs', random_state=77,  multi_class='multinomial')             \n",
    "             , \"MultiLayerPerceptron\": MLPClassifier(solver = 'lbfgs', random_state=77)\n",
    "                }\n",
    "\n",
    "\n",
    "# setup\n",
    "model_results = pd.DataFrame()\n",
    "model = []\n",
    "cnt = 0\n",
    "\n",
    "for fdata in tqdm(feature_dct_sc.values()):\n",
    "    cnt += 1\n",
    "    scores = []\n",
    "    for x, m in zip(models_ls, models_ls.values()):\n",
    "        print(x)\n",
    "        score = print_scores(m, fdata[0], y_train, fdata[1], y_test, verbose = False)\n",
    "        if cnt == 1:\n",
    "            model.append(x)\n",
    "        scores.append(score)\n",
    "    model_results['feature_set{}'.format(cnt)] = scores       \n",
    "model_results.index = model\n",
    "model_results.columns = list(feature_dct_sc)\n",
    "\n",
    "model_results"
   ]
  },
  {
   "cell_type": "code",
   "execution_count": 130,
   "metadata": {},
   "outputs": [
    {
     "data": {
      "image/png": "[encoded data removed]",
      "text/plain": [
       "<Figure size 1296x576 with 2 Axes>"
      ]
     },
     "metadata": {},
     "output_type": "display_data"
    }
   ],
   "source": [
    "# Plot model training results (F1 macro score)\n",
    "set_style(\"darkgrid\")\n",
    "plt.figure(figsize=(18,8))\n",
    "palette = sns.color_palette(\"RdYlGn\", 10)\n",
    "sns.heatmap(model_results, vmin=0, vmax=100, center = 50\n",
    "            , annot=True, fmt='.1f', linewidths=.5, cmap=palette, annot_kws={\"size\": 18});"
   ]
  },
  {
   "cell_type": "code",
   "execution_count": 131,
   "metadata": {},
   "outputs": [
    {
     "data": {
      "image/png": "[encoded data removed]",
      "text/plain": [
       "<Figure size 1296x288 with 1 Axes>"
      ]
     },
     "metadata": {},
     "output_type": "display_data"
    }
   ],
   "source": [
    "def plot_model_comparison(df, colname):\n",
    "    set_style(\"darkgrid\")\n",
    "    plt.figure(figsize=(18,4))\n",
    "    palette = sns.color_palette(\"Greens\", len(df[colname]))\n",
    "    rank = df[colname].sort_values(ascending=True).argsort()\n",
    "    ax = df[colname].sort_values(ascending=False).plot(kind='bar',color=np.array(palette[::-1])[rank] ,fontsize=14)\n",
    "\n",
    "    # annotate data labels\n",
    "    for i,child in enumerate(ax.get_children()[:df.index.size]):\n",
    "        ax.text(i,child.get_bbox().y1+5,list(np.round(df[colname].sort_values(ascending=False), decimals=2))[i], horizontalalignment ='center', fontsize=14)\n",
    "\n",
    "    ax.get_yaxis().set_major_formatter(plt.FuncFormatter(lambda x, loc: \"{:,}\".format(int(x))))\n",
    "    ax.spines['bottom'].set_color('#CCCCCC')\n",
    "    ax.spines['bottom'].set_linewidth(2)\n",
    "    ax.spines['left'].set_color('#CCCCCC')\n",
    "    ax.spines['left'].set_linewidth(2)\n",
    "    plt.ylabel('F1 Macro score', fontsize=16)\n",
    "    plt.xlabel('Model', fontsize=16)\n",
    "    plt.xticks(rotation=25)\n",
    "    plt.show()\n",
    "    \n",
    "plot_model_comparison(df = model_results, colname = 'TF-IDF scaled')"
   ]
  },
  {
   "cell_type": "markdown",
   "metadata": {},
   "source": [
    "#### 4.2 Hyperparameter optimization"
   ]
  },
  {
   "cell_type": "markdown",
   "metadata": {},
   "source": [
    "As an optional extra, let's tune the most succesful models from the previous steps. I decided not to execute this part, since it would take too much of my laptop to process, but feel fry to search for a better configuration of the model."
   ]
  },
  {
   "cell_type": "code",
   "execution_count": 132,
   "metadata": {},
   "outputs": [],
   "source": [
    "def tune_hyperparameters():\n",
    "    param_grid = param_grid = {'C':[0.1, 1, 10]\n",
    "                               ,'gamma':[1,0.1,0.001,0.0001]\n",
    "                               , 'kernel':['linear','rbf']}\n",
    "\n",
    "    gs = GridSearchCV(SVC(class_weight = 'balanced', random_state=77), \n",
    "                 param_grid=param_grid, scoring=\"f1_macro\", cv=5, n_jobs=-1, verbose=10)\n",
    "    gs = gs.fit(feature_dct_sc['TF-IDF scaled'][0], y_train)\n",
    "    print(gs.best_params_)\n",
    "    print('best score: {:3f}'.format(gs.best_score_))\n",
    "    return gs.best_estimator_\n",
    "\n",
    "#finalmodel = tune_hyperparameters()"
   ]
  },
  {
   "cell_type": "code",
   "execution_count": 133,
   "metadata": {},
   "outputs": [
    {
     "data": {
      "text/plain": [
       "['dash-nos/clf_nos.joblib']"
      ]
     },
     "execution_count": 133,
     "metadata": {},
     "output_type": "execute_result"
    }
   ],
   "source": [
    "# create and export final model\n",
    "finalmodel=SVC(C=1, class_weight = 'balanced', random_state=77)\n",
    "finalmodel.fit(pd.DataFrame(feature_dct_sc['TF-IDF scaled'][0]), y_train)\n",
    "joblib.dump(finalmodel, 'dash-nos/clf_nos.joblib', compress=9)"
   ]
  },
  {
   "cell_type": "code",
   "execution_count": 84,
   "metadata": {},
   "outputs": [],
   "source": [
    "import _pickle as pickle\n",
    "import bz2\n",
    "        \n",
    "with bz2.BZ2File('dash-nos/tfidf_vectorizer_nos.pkl', 'w') as f:\n",
    "    pickle.dump(tfidf_vectorizer, f)"
   ]
  },
  {
   "cell_type": "code",
   "execution_count": 135,
   "metadata": {},
   "outputs": [
    {
     "data": {
      "text/plain": [
       "['dash-nos/scaler_nos.pkl']"
      ]
     },
     "execution_count": 135,
     "metadata": {},
     "output_type": "execute_result"
    }
   ],
   "source": [
    "# export scaler for Dash app\n",
    "sc = StandardScaler()\n",
    "sc.fit(feature_dct['TF-IDF'][0])\n",
    "joblib.dump(sc, 'dash-nos/scaler_nos.pkl', compress=9)"
   ]
  },
  {
   "cell_type": "markdown",
   "metadata": {},
   "source": [
    "#### 4.3 Confusion matrix inspection"
   ]
  },
  {
   "cell_type": "code",
   "execution_count": 136,
   "metadata": {},
   "outputs": [
    {
     "data": {
      "image/png": "[encoded data removed]",
      "text/plain": [
       "<Figure size 720x720 with 2 Axes>"
      ]
     },
     "metadata": {},
     "output_type": "display_data"
    }
   ],
   "source": [
    "# confusion matrix\n",
    "from sklearn.metrics import confusion_matrix\n",
    "palette = sns.color_palette(\"RdYlGn\", 10)\n",
    "\n",
    "y_pred = finalmodel.predict(feature_dct_sc['TF-IDF scaled'][1])\n",
    "\n",
    "l1 = encoder.inverse_transform(y_test)\n",
    "l2 = encoder.inverse_transform(y_pred)\n",
    "C = confusion_matrix(l1, l2, labels=np.unique(l2))\n",
    "fig, ax = plt.subplots(figsize=(10,10))\n",
    "sns.heatmap(C / C.astype(np.float).sum(axis=1)\n",
    "            , fmt ='.2f', annot=True, cmap=palette\n",
    "            , xticklabels=np.unique(l1), yticklabels=np.unique(l1))\n",
    "plt.ylabel('Actual')\n",
    "plt.xlabel('Predicted')\n",
    "plt.show()"
   ]
  },
  {
   "cell_type": "markdown",
   "metadata": {},
   "source": [
    "## 5. Dimensionality reduction & plotting"
   ]
  },
  {
   "cell_type": "markdown",
   "metadata": {},
   "source": [
    "We will be using a projection techique to reduce dimensionality in the dataset in order to be able to plot the news articles. Some attempts were made using _t-distributed stochastic neighbor embedding_ (T-SNE), in combination with the bokeh plotting library, but results were not great. After some research, I came across a technique called _Uniform Manifold Approximation and Projection_ (UMAP). UMAP is used in combination with Dash to plot the vector space, since Bokeh didn't seem to have implemented a 3D scatter plot."
   ]
  },
  {
   "cell_type": "code",
   "execution_count": 19,
   "metadata": {},
   "outputs": [],
   "source": [
    "import umap"
   ]
  },
  {
   "cell_type": "code",
   "execution_count": 20,
   "metadata": {},
   "outputs": [],
   "source": [
    "# TFIDF on whole dataset\n",
    "tfidf_vectorizer = TfidfVectorizer(max_features = 5000,\n",
    "                                min_df = 1\n",
    "                               , max_df = 1.0\n",
    "                               , ngram_range=(1, 2)\n",
    "                                  ) \n",
    "\n",
    "df_tfidf = tfidf_vectorizer.fit_transform(df['Text'])\n",
    "df_tfidf = pd.DataFrame(df_tfidf.toarray())"
   ]
  },
  {
   "cell_type": "code",
   "execution_count": 23,
   "metadata": {},
   "outputs": [
    {
     "data": {
      "text/plain": [
       "['dash-nos/encoder_nos.pkl']"
      ]
     },
     "execution_count": 23,
     "metadata": {},
     "output_type": "execute_result"
    }
   ],
   "source": [
    "## UMAP\n",
    "embedding = umap.UMAP(n_components = 3\n",
    "                      , n_neighbors=300 #400 \n",
    "                      , min_dist=0.001 #0.1 \n",
    "                      , metric='cosine'\n",
    "                      , random_state=77).fit_transform(df_tfidf)\n",
    "#n_neighbors = range 5 to 50, with a choice of 10 to 15 being a sensible default.\n",
    "#min_dist = 0.001 to 0.5, with 0.1 sensible default\n",
    "\n",
    "umap_df = pd.DataFrame(embedding\n",
    "                       , columns = ['umap_1', 'umap_2', 'umap_3']\n",
    "                       ,index=pd.DataFrame(df).index)\n",
    "\n",
    "umap_df = df.drop(columns=['Date', 'Text']).join(umap_df)\n",
    "umap_df.set_index('Category', inplace=True)\n",
    "umap_df.to_csv(\"dash-nos/umap_df.csv\", index=True, header=True)\n",
    "\n",
    "encoder = preprocessing.LabelEncoder()\n",
    "labels = encoder.fit(df['Category'])\n",
    "joblib.dump(encoder, 'dash-nos/encoder_nos.pkl', compress=9)"
   ]
  },
  {
   "cell_type": "code",
   "execution_count": 24,
   "metadata": {
    "scrolled": true
   },
   "outputs": [
    {
     "data": {
      "text/html": [
       "<div>\n",
       "<style scoped>\n",
       "    .dataframe tbody tr th:only-of-type {\n",
       "        vertical-align: middle;\n",
       "    }\n",
       "\n",
       "    .dataframe tbody tr th {\n",
       "        vertical-align: top;\n",
       "    }\n",
       "\n",
       "    .dataframe thead th {\n",
       "        text-align: right;\n",
       "    }\n",
       "</style>\n",
       "<table border=\"1\" class=\"dataframe\">\n",
       "  <thead>\n",
       "    <tr style=\"text-align: right;\">\n",
       "      <th></th>\n",
       "      <th>Title</th>\n",
       "      <th>Link</th>\n",
       "      <th>umap_1</th>\n",
       "      <th>umap_2</th>\n",
       "      <th>umap_3</th>\n",
       "    </tr>\n",
       "    <tr>\n",
       "      <th>Category</th>\n",
       "      <th></th>\n",
       "      <th></th>\n",
       "      <th></th>\n",
       "      <th></th>\n",
       "      <th></th>\n",
       "    </tr>\n",
       "  </thead>\n",
       "  <tbody>\n",
       "    <tr>\n",
       "      <th>sport</th>\n",
       "      <td>Na vertrek Keizer staat Damien Hertog plots aan het roer bij Al-Jazira</td>\n",
       "      <td>https://www.nos.nl/artikel/2261038-na-vertrek-keizer-staat-damien-hertog-plots-aan-het-roer-bij-al-jazira.html</td>\n",
       "      <td>1.684431</td>\n",
       "      <td>-2.584979</td>\n",
       "      <td>-1.940090</td>\n",
       "    </tr>\n",
       "    <tr>\n",
       "      <th>economie</th>\n",
       "      <td>Eerst waren de Saudische miljarden welkom, nu is de techwereld stil</td>\n",
       "      <td>https://www.nos.nl/artikel/2256069-eerst-waren-de-saudische-miljarden-welkom-nu-is-de-techwereld-stil.html</td>\n",
       "      <td>-2.360937</td>\n",
       "      <td>0.161668</td>\n",
       "      <td>-2.776365</td>\n",
       "    </tr>\n",
       "    <tr>\n",
       "      <th>buitenland</th>\n",
       "      <td>Duitse minister: ondertekenen migratiepact desnoods uitstellen</td>\n",
       "      <td>https://www.nos.nl/artikel/2259899-duitse-minister-ondertekenen-migratiepact-desnoods-uitstellen.html</td>\n",
       "      <td>-3.164507</td>\n",
       "      <td>1.050445</td>\n",
       "      <td>-0.862348</td>\n",
       "    </tr>\n",
       "    <tr>\n",
       "      <th>sport</th>\n",
       "      <td>Buijs hekelt gedrag Gözübüyük na terugdraaien rood bij VVV-FC Groningen</td>\n",
       "      <td>https://www.nos.nl/artikel/2262753-buijs-hekelt-gedrag-gozubuyuk-na-terugdraaien-rood-bij-vvv-fc-groningen.html</td>\n",
       "      <td>1.954242</td>\n",
       "      <td>-2.049429</td>\n",
       "      <td>-2.812590</td>\n",
       "    </tr>\n",
       "    <tr>\n",
       "      <th>regio</th>\n",
       "      <td>Fotograaf zoekt dubbelgangers van figuren op de Nachtwacht</td>\n",
       "      <td>https://www.nos.nl/artikel/2263948-fotograaf-zoekt-dubbelgangers-van-figuren-op-de-nachtwacht.html</td>\n",
       "      <td>-0.842751</td>\n",
       "      <td>2.034566</td>\n",
       "      <td>-0.744917</td>\n",
       "    </tr>\n",
       "  </tbody>\n",
       "</table>\n",
       "</div>"
      ],
      "text/plain": [
       "                                                                              Title  \\\n",
       "Category                                                                              \n",
       "sport        Na vertrek Keizer staat Damien Hertog plots aan het roer bij Al-Jazira   \n",
       "economie        Eerst waren de Saudische miljarden welkom, nu is de techwereld stil   \n",
       "buitenland           Duitse minister: ondertekenen migratiepact desnoods uitstellen   \n",
       "sport       Buijs hekelt gedrag Gözübüyük na terugdraaien rood bij VVV-FC Groningen   \n",
       "regio                    Fotograaf zoekt dubbelgangers van figuren op de Nachtwacht   \n",
       "\n",
       "                                                                                                                       Link  \\\n",
       "Category                                                                                                                      \n",
       "sport        https://www.nos.nl/artikel/2261038-na-vertrek-keizer-staat-damien-hertog-plots-aan-het-roer-bij-al-jazira.html   \n",
       "economie         https://www.nos.nl/artikel/2256069-eerst-waren-de-saudische-miljarden-welkom-nu-is-de-techwereld-stil.html   \n",
       "buitenland            https://www.nos.nl/artikel/2259899-duitse-minister-ondertekenen-migratiepact-desnoods-uitstellen.html   \n",
       "sport       https://www.nos.nl/artikel/2262753-buijs-hekelt-gedrag-gozubuyuk-na-terugdraaien-rood-bij-vvv-fc-groningen.html   \n",
       "regio                    https://www.nos.nl/artikel/2263948-fotograaf-zoekt-dubbelgangers-van-figuren-op-de-nachtwacht.html   \n",
       "\n",
       "              umap_1    umap_2    umap_3  \n",
       "Category                                  \n",
       "sport       1.684431 -2.584979 -1.940090  \n",
       "economie   -2.360937  0.161668 -2.776365  \n",
       "buitenland -3.164507  1.050445 -0.862348  \n",
       "sport       1.954242 -2.049429 -2.812590  \n",
       "regio      -0.842751  2.034566 -0.744917  "
      ]
     },
     "execution_count": 24,
     "metadata": {},
     "output_type": "execute_result"
    }
   ],
   "source": [
    "# Dataframe that is used as input for Dash\n",
    "umap_df.head()"
   ]
  },
  {
   "cell_type": "markdown",
   "metadata": {},
   "source": [
    "The result is a Dash dashboard showing all news articles in a 3D scatter plot based on their semantic density. One is able to distinguish certain topics. On the right is a UI were the user is able to create their own message in order to let the machine learning model predict what category it belongs to."
   ]
  }
 ],
 "metadata": {
  "kernelspec": {
   "display_name": "Python 3",
   "language": "python",
   "name": "python3"
  },
  "language_info": {
   "codemirror_mode": {
    "name": "ipython",
    "version": 3
   },
   "file_extension": ".py",
   "mimetype": "text/x-python",
   "name": "python",
   "nbconvert_exporter": "python",
   "pygments_lexer": "ipython3",
   "version": "3.6.8"
  }
 },
 "nbformat": 4,
 "nbformat_minor": 2
}
